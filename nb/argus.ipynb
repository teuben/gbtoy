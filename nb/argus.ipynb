{
 "cells": [
  {
   "cell_type": "markdown",
   "metadata": {},
   "source": [
    "# GBO ARGUS spectra dissection\n",
    "\n"
   ]
  },
  {
   "cell_type": "code",
   "execution_count": null,
   "metadata": {},
   "outputs": [],
   "source": [
    "%matplotlib inline\n",
    "\n",
    "from astropy.io import fits\n",
    "from astropy import units as u\n",
    "import numpy as np\n",
    "from matplotlib import pyplot as plt\n",
    "from astropy.visualization import quantity_support\n",
    "from specutils import Spectrum1D, SpectrumList\n",
    "\n",
    "from astropy.io import ascii\n",
    "from astropy.nddata import StdDevUncertainty\n",
    "from astropy.table import Table\n",
    "from astropy.units import Unit\n",
    "from astropy.wcs import WCS\n",
    "from astropy.convolution import convolve, Box1DKernel\n",
    "\n",
    "from specutils.io import get_loaders_by_extension\n",
    "from specutils.io.registers import data_loader\n",
    "from specutils import Spectrum1D"
   ]
  },
  {
   "cell_type": "markdown",
   "metadata": {},
   "source": [
    "## SDFITS\n",
    "\n",
    "We begin by dissecting the typical SDFITS file, starting with raw plotting of a spectrum and some basic BINTABLE operations.\n",
    "\n",
    "The data in a bintable has **rows** and **columns**.   Within GBTIDL a **row** is sometimes also referred to as a **record** and sometimes **#index**."
   ]
  },
  {
   "cell_type": "markdown",
   "metadata": {},
   "source": [
    "## First a few useful functions"
   ]
  },
  {
   "cell_type": "code",
   "execution_count": null,
   "metadata": {},
   "outputs": [],
   "source": [
    "def my_stats(label,data,edge=0):\n",
    "    \"\"\"\n",
    "    display mean,rms,min,max,npts\n",
    "    also good for regression\n",
    "    can optionally take some edges of either side (check)\n",
    "    \"\"\"\n",
    "    if edge > 0:\n",
    "        mean = data[edge:-edge].mean()\n",
    "        rms  = data[edge:-edge].std()\n",
    "        dmin = data[edge:-edge].min()\n",
    "        dmax = data[edge:-edge].max()\n",
    "    else:\n",
    "        mean = data.mean()\n",
    "        rms  = data.std()\n",
    "        dmin = data.min()\n",
    "        dmax = data.max()\n",
    "    print(\"%s  %s %s %s %s %d\" %  (label,repr(mean),repr(rms),repr(dmin),repr(dmax),len(data)-2*edge))"
   ]
  },
  {
   "cell_type": "code",
   "execution_count": null,
   "metadata": {},
   "outputs": [],
   "source": [
    "def uniq(seq):\n",
    "    \"\"\" from http://stackoverflow.com/questions/480214/how-do-you-remove-duplicates-from-a-list-in-python-whilst-preserving-order \"\"\"\n",
    "    seen = set()\n",
    "    seen_add = seen.add\n",
    "    return [ x for x in seq if x not in seen and not seen_add(x)]\n"
   ]
  },
  {
   "cell_type": "markdown",
   "metadata": {},
   "source": [
    "## Input parameters\n",
    "\n",
    "define the SDFITS file name "
   ]
  },
  {
   "cell_type": "code",
   "execution_count": null,
   "metadata": {},
   "outputs": [],
   "source": [
    "fname = 'AGBT17B_151_01.raw.vegas.A.fits'  #  72MB argus 1/8"
   ]
  },
  {
   "cell_type": "markdown",
   "metadata": {},
   "source": [
    "Open the FITS file and point to the 2nd HDU, where the BINTABLE is located. No error checking. Data isn't really read yet.\n",
    "\n",
    "The DATA for argus comes with two additional sources, the VANE and the SKY, in addition to our source, IC0342 in this case. They are used for additional calibration. Also, this is one of 8 files (labeles A through H), but for the purpose of this experiment, A will suffice. A contains two of the beams (pointings), all filed will thus contain the full 16 pointings."
   ]
  },
  {
   "cell_type": "code",
   "execution_count": null,
   "metadata": {},
   "outputs": [],
   "source": [
    "%%time\n",
    "# 20ms: for ex1  fast because data is not really put in memory?\n",
    "# 40ms for EDGE\n",
    "nrow=0\n",
    "try:\n",
    "    hdu = fits.open(fname)\n",
    "    header2 = hdu[1].header\n",
    "    data2   = hdu[1].data\n",
    "    nrow = len(data2)\n",
    "    print(\"Found %d rows in %s\" % (nrow,fname))\n",
    "except:\n",
    "    print(\"*** Error ***\")"
   ]
  },
  {
   "cell_type": "markdown",
   "metadata": {},
   "source": [
    "Lets stat all the numbers (nrow * nchan)"
   ]
  },
  {
   "cell_type": "code",
   "execution_count": null,
   "metadata": {},
   "outputs": [],
   "source": [
    "%%time\n",
    "# 790ms for ex1\n",
    "my_stats(fname,data2[:]['DATA'])"
   ]
  },
  {
   "cell_type": "markdown",
   "metadata": {},
   "source": [
    "Grab few spectra by row numbers."
   ]
  },
  {
   "cell_type": "code",
   "execution_count": null,
   "metadata": {},
   "outputs": [],
   "source": [
    "%%time \n",
    "#  3ms\n",
    "row     = [0,40,80]\n",
    "spectra = data2[:]['DATA']  \n",
    "nchan   = len(spectra[0])\n",
    "chans   = np.arange(nchan)\n",
    "src     = data2[row]['OBJECT']\n",
    "print(\"Found %d channels and object %s\" % (nchan,src))\n",
    "#\n",
    "my_stats('STATS for row',spectra[row])"
   ]
  },
  {
   "cell_type": "markdown",
   "metadata": {},
   "source": [
    "A super simple plot, channel number vs. flux for the selected rows"
   ]
  },
  {
   "cell_type": "code",
   "execution_count": null,
   "metadata": {
    "scrolled": true
   },
   "outputs": [],
   "source": [
    "for i in range(len(row)):\n",
    "    plt.plot(chans,spectra[row[i]],label=src[i])\n",
    "plt.legend()\n",
    "plt.xlabel(\"Channel\")\n",
    "plt.ylabel(\"Flux\");\n",
    "plt.title(\"Raw Spectrum %s - rows %s\" % (src,repr(row)));"
   ]
  },
  {
   "cell_type": "markdown",
   "metadata": {},
   "source": [
    "\n",
    "### IC0342\n",
    "From now on, we will be working with just the source itself"
   ]
  },
  {
   "cell_type": "code",
   "execution_count": null,
   "metadata": {},
   "outputs": [],
   "source": [
    "%%time \n",
    "whsrc = data2[:]['OBJECT'] == 'IC0342'\n",
    "data3 = data2[whsrc]\n",
    "spectra = data3[:]['DATA']\n",
    "print(data2.shape, data3.shape)"
   ]
  },
  {
   "cell_type": "markdown",
   "metadata": {},
   "source": [
    "Show a waterfall plot for a select number of rows. "
   ]
  },
  {
   "cell_type": "code",
   "execution_count": null,
   "metadata": {},
   "outputs": [],
   "source": [
    "print(spectra.shape)\n",
    "plt.imshow(spectra[0:1024],origin='bottom')\n",
    "plt.xlabel('Channel')\n",
    "plt.ylabel('Row')\n",
    "plt.title(\"section of the waterfall plot\");"
   ]
  },
  {
   "cell_type": "markdown",
   "metadata": {},
   "source": [
    "The rows are organized in by their SCAN number. Each scan has a uniq TRGTLONG and TRGTLAT"
   ]
  },
  {
   "cell_type": "code",
   "execution_count": null,
   "metadata": {},
   "outputs": [],
   "source": [
    "scans = data3['SCAN']\n",
    "uscans = uniq(scans)\n",
    "print(\"Found %d scans\" % len(uscans))\n",
    "nrows = len(data3)\n",
    "scanlen = nrows // len(uscans)\n",
    "print(uscans)\n",
    "print(nrows,scanlen)"
   ]
  },
  {
   "cell_type": "code",
   "execution_count": null,
   "metadata": {},
   "outputs": [],
   "source": [
    "rows = list(range(0,nrows,scanlen))\n",
    "tra = data3[rows]['TRGTLONG']\n",
    "tdec= data3[rows]['TRGTLAT']\n",
    "for s in uscans:\n",
    "    wh = scans == s\n",
    "    ra = data3[wh]['CRVAL2']\n",
    "    dec = data3[wh]['CRVAL3']\n",
    "    plt.plot(ra,dec,'.')\n",
    "plt.plot(tra,tdec,'o',color='black',fillstyle='full')\n",
    "plt.title(\"All %d scans\" % len(uscans))\n",
    "plt.xlabel(\"RA\")\n",
    "plt.ylabel(\"DEC\")"
   ]
  },
  {
   "cell_type": "code",
   "execution_count": null,
   "metadata": {},
   "outputs": [],
   "source": []
  }
 ],
 "metadata": {
  "kernelspec": {
   "display_name": "Python 3",
   "language": "python",
   "name": "python3"
  },
  "language_info": {
   "codemirror_mode": {
    "name": "ipython",
    "version": 3
   },
   "file_extension": ".py",
   "mimetype": "text/x-python",
   "name": "python",
   "nbconvert_exporter": "python",
   "pygments_lexer": "ipython3",
   "version": "3.7.0"
  }
 },
 "nbformat": 4,
 "nbformat_minor": 2
}
