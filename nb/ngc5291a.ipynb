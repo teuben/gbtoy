{
 "cells": [
  {
   "cell_type": "markdown",
   "metadata": {},
   "source": [
    "# A pyspeckit example for GBspec\n",
    "\n",
    "This version uses pyspeckit, but you will need the \"teuben-gbt\" branch, where the hacking is going on to deal with missing variables in this old data.\n",
    "\n",
    "This should reproduce Example 1 from the GBTIDL manual. The datafile you need is [here](http://safe.nrao.edu/wiki/pub/GB/Data/GBTIDLExampleAndSampleData/ngc5291.fits).\n",
    "\n",
    "## SDFITS\n",
    "\n",
    "We begin by disecting the typical SDFITS file, starting with raw plotting\n",
    "\n"
   ]
  },
  {
   "cell_type": "code",
   "execution_count": null,
   "metadata": {},
   "outputs": [],
   "source": [
    "# %matplotlib inline\n",
    "%matplotlib\n",
    "\n",
    "from astropy.io import fits\n",
    "from astropy import units as u\n",
    "import numpy as np\n",
    "from matplotlib import pyplot as plt\n",
    "\n",
    "from pyspeckit.spectrum.readers import gbt\n",
    "\n"
   ]
  },
  {
   "cell_type": "markdown",
   "metadata": {},
   "source": [
    "A useful stats routine so we can regress if we see the same data"
   ]
  },
  {
   "cell_type": "code",
   "execution_count": null,
   "metadata": {},
   "outputs": [],
   "source": [
    "def my_stats(label,data):\n",
    "    \"\"\"\n",
    "    for regression\n",
    "    \"\"\"\n",
    "    mean = data.mean()\n",
    "    rms  = data.std()\n",
    "    dmin = data.min()\n",
    "    dmax = data.max()\n",
    "    print(\"%s  %s %s %s %s\" %  (label,repr(mean),repr(rms),repr(dmin),repr(dmax)))"
   ]
  },
  {
   "cell_type": "code",
   "execution_count": null,
   "metadata": {},
   "outputs": [],
   "source": [
    "def uniq(seq):\n",
    "    \"\"\" from http://stackoverflow.com/questions/480214/how-do-you-remove-duplicates-from-a-list-in-python-whilst-preserving-order \"\"\"\n",
    "    seen = set()\n",
    "    seen_add = seen.add\n",
    "    return [ x for x in seq if x not in seen and not seen_add(x)]\n"
   ]
  },
  {
   "cell_type": "code",
   "execution_count": null,
   "metadata": {},
   "outputs": [],
   "source": [
    "fname = 'ngc5291.fits'                         # gbtidl ex1\n",
    "#fname = '3C286.fits'\n",
    "#fname = 'IC1481.fits'                          # gbtidl ex3\n",
    "#fname = 'AGBT15B_287_35.raw.vegas.A.fits'      # EDGE 3 scans\n",
    "#fname = 'AGBT17B_151_01.raw.vegas.A.fits'      # argus\n",
    "row   = 0\n",
    "isrc  = 0"
   ]
  },
  {
   "cell_type": "markdown",
   "metadata": {},
   "source": [
    "Start a session from a single SDFITS name. For future work we will need to be able to handle a directory (cf. the **dirin** command in GBTIDL) where several related SDFITS are located.  E.g. ARGUS uses 8.  The EDGE project has 3.\n",
    "\n",
    "Loading a session is fast. It gives a quick overview, but it doesn't really load any data."
   ]
  },
  {
   "cell_type": "code",
   "execution_count": null,
   "metadata": {
    "scrolled": false
   },
   "outputs": [],
   "source": [
    "%%time \n",
    "session = gbt.GBTSession(fname)\n",
    "print(session)"
   ]
  },
  {
   "cell_type": "code",
   "execution_count": null,
   "metadata": {},
   "outputs": [],
   "source": [
    "%%time \n",
    "src = list(session.targets.keys())\n",
    "if len(src) > 1:\n",
    "    print(\"Warning: too many sources:\",src)\n",
    "    print(\"Using %s\" % src[isrc])\n",
    "src = src[isrc]    \n",
    "print(src)"
   ]
  },
  {
   "cell_type": "markdown",
   "metadata": {},
   "source": [
    "Load all blocks, as defined by a uniq (sampler,nod,....) tuplet\n",
    "\n",
    "For GBT sampler is typically polarization (XX and YY) and multi-beam pointing (for ARGUS there are 16)\n",
    "\n",
    "Loading all blocks, at least the way it's done in pyspeckit, can be VERY VERY slow. clearly needs a different approach.\n"
   ]
  },
  {
   "cell_type": "code",
   "execution_count": null,
   "metadata": {},
   "outputs": [],
   "source": [
    "%%time\n",
    "print(\"\")\n",
    "print(\"NOTE: This command can take a while\")\n",
    "print(\"\")\n",
    "session.load_target(src, verbose=True)"
   ]
  },
  {
   "cell_type": "code",
   "execution_count": null,
   "metadata": {},
   "outputs": [],
   "source": [
    "%%time \n",
    "target = session[src]\n",
    "print(target)\n",
    "blocks = list(target.blocks.keys())\n",
    "if len(blocks) > 1:\n",
    "    print(\"Warning: too many blocks for me to handle\",blocks)\n"
   ]
  },
  {
   "cell_type": "code",
   "execution_count": null,
   "metadata": {},
   "outputs": [],
   "source": [
    "nint = 0\n",
    "sp0 = target.blocks[blocks[0]]\n",
    "nint = len(sp0)\n",
    "print(\"Found %d spectra in one block\" % nint)"
   ]
  },
  {
   "cell_type": "code",
   "execution_count": null,
   "metadata": {},
   "outputs": [],
   "source": [
    "sp = sp0[0]\n",
    "stats = sp.stats()\n",
    "print(stats)\n",
    "#test  1.1189245 0.33819348 0.03492988 3.7152052\n",
    "#test  1.0424037 0.3147295 0.03157423 3.3035116"
   ]
  },
  {
   "cell_type": "code",
   "execution_count": null,
   "metadata": {},
   "outputs": [],
   "source": [
    "sp.xarr.convert_to_unit('km/s')\n",
    "sp.plotter()\n",
    "sp.plotter.label(verbose_label=True)   "
   ]
  },
  {
   "cell_type": "code",
   "execution_count": null,
   "metadata": {},
   "outputs": [],
   "source": [
    "if src == '3C286':\n",
    "    sp.plotter(xmin=207408,xmax=207598)\n",
    "elif src == 'NGC5291':\n",
    "    sp.plotter(xmin=-200, xmax=200)"
   ]
  }
 ],
 "metadata": {
  "kernelspec": {
   "display_name": "Python 3",
   "language": "python",
   "name": "python3"
  },
  "language_info": {
   "codemirror_mode": {
    "name": "ipython",
    "version": 3
   },
   "file_extension": ".py",
   "mimetype": "text/x-python",
   "name": "python",
   "nbconvert_exporter": "python",
   "pygments_lexer": "ipython3",
   "version": "3.7.0"
  }
 },
 "nbformat": 4,
 "nbformat_minor": 2
}
