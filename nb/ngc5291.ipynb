{
 "cells": [
  {
   "cell_type": "markdown",
   "metadata": {},
   "source": [
    "# A specutils example for GBspec\n",
    "\n",
    "This version uses the SpectrumList container. Could also consider a list of Spectrum1D or a SpectrumCollection.\n",
    "\n",
    "This should reproduce Example 1 from the GBTIDL manual.\n",
    "\n",
    "## SDFITS\n",
    "\n",
    "We begin by disecting the typical SDFITS file, starting with raw plotting\n",
    "\n"
   ]
  },
  {
   "cell_type": "code",
   "execution_count": null,
   "metadata": {},
   "outputs": [],
   "source": [
    "# %matplotlib inline\n",
    "%matplotlib\n",
    "\n",
    "from astropy.io import fits\n",
    "from astropy import units as u\n",
    "import numpy as np\n",
    "from matplotlib import pyplot as plt\n",
    "from astropy.visualization import quantity_support\n",
    "from specutils import Spectrum1D, SpectrumList"
   ]
  },
  {
   "cell_type": "markdown",
   "metadata": {},
   "source": [
    "A useful stats routine so we can regress if we see the same data"
   ]
  },
  {
   "cell_type": "code",
   "execution_count": null,
   "metadata": {},
   "outputs": [],
   "source": [
    "def my_stats(label,data):\n",
    "    \"\"\"\n",
    "    for regression\n",
    "    \"\"\"\n",
    "    mean = data.mean()\n",
    "    rms  = data.std()\n",
    "    dmin = data.min()\n",
    "    dmax = data.max()\n",
    "    print(\"%s  %s %s %s %s\" %  (label,repr(mean),repr(rms),repr(dmin),repr(dmax)))"
   ]
  },
  {
   "cell_type": "code",
   "execution_count": null,
   "metadata": {},
   "outputs": [],
   "source": [
    "fname = 'ngc5291.fits'\n",
    "row   = 0"
   ]
  },
  {
   "cell_type": "code",
   "execution_count": null,
   "metadata": {},
   "outputs": [],
   "source": [
    "hdu = fits.open(fname)\n",
    "header2 = hdu[1].header\n",
    "data2   = hdu[1].data\n",
    "print(\"%d rows\" % len(data2))"
   ]
  },
  {
   "cell_type": "code",
   "execution_count": null,
   "metadata": {},
   "outputs": [],
   "source": [
    "flux = data2[row]['DATA']  \n",
    "nchan = len(flux)\n",
    "chans  = np.arange(nchan)\n",
    "print(\"%d channels\" % nchan)\n",
    "#\n",
    "my_stats('STATS for row %d:' % row,flux)"
   ]
  },
  {
   "cell_type": "code",
   "execution_count": null,
   "metadata": {},
   "outputs": [],
   "source": [
    "plt.plot(chans,flux);"
   ]
  },
  {
   "cell_type": "markdown",
   "metadata": {},
   "source": [
    "### How about Panda DataFrame's ?\n"
   ]
  },
  {
   "cell_type": "code",
   "execution_count": null,
   "metadata": {},
   "outputs": [],
   "source": [
    "from astropy.table import Table\n",
    "import pandas\n",
    "\n",
    "t= Table.read(fname,format='fits') \n",
    "if 'TDIM7' in t.colnames:\n",
    "    print(\"Expect trouble, there is TDIM7\")\n",
    "#t.meta\n",
    "df = t.to_pandas()\n",
    " \n",
    "# problem is that TDIM7 = '(32768,1,1,1,)' so we should comment out TDIM7 -> XTDIM7 or remove column\n",
    "# hmm, still doesn't work"
   ]
  },
  {
   "cell_type": "code",
   "execution_count": null,
   "metadata": {},
   "outputs": [],
   "source": [
    "\n",
    "\n"
   ]
  },
  {
   "cell_type": "markdown",
   "metadata": {},
   "source": [
    "### Adding astropy units to the X and Y axis"
   ]
  },
  {
   "cell_type": "code",
   "execution_count": null,
   "metadata": {},
   "outputs": [],
   "source": [
    "crval1 = data2[row]['CRVAL1']\n",
    "cdelt1 = data2[row]['CDELT1']\n",
    "crpix1 = data2[row]['CRPIX1']\n",
    "freq0 = data2[row]['RESTFREQ']\n",
    "freq = crval1 + (np.arange(1,nchan+1) - crpix1) * cdelt1 / 1e9\n",
    "#\n",
    "flux = flux * u.Unit(\"K\")\n",
    "freq = freq * u.Unit(\"GHz\")"
   ]
  },
  {
   "cell_type": "code",
   "execution_count": null,
   "metadata": {},
   "outputs": [],
   "source": [
    "# even though we've attached astropy units, they still work in matplotlib plotting\n",
    "plt.plot(freq,flux);"
   ]
  },
  {
   "cell_type": "markdown",
   "metadata": {},
   "source": [
    "### Turning into a simple Spectrum1D"
   ]
  },
  {
   "cell_type": "code",
   "execution_count": null,
   "metadata": {},
   "outputs": [],
   "source": [
    "# now make a Spectrum1D to work from\n",
    "spec = Spectrum1D(spectral_axis=freq, flux=flux)"
   ]
  },
  {
   "cell_type": "code",
   "execution_count": null,
   "metadata": {},
   "outputs": [],
   "source": [
    "f, ax = plt.subplots()  \n",
    "ax.step(spec.spectral_axis, spec.flux);\n",
    "# darn, the spectral axis still has 1e9 units"
   ]
  },
  {
   "cell_type": "markdown",
   "metadata": {},
   "source": [
    "## Designing our own reader in specutils"
   ]
  },
  {
   "cell_type": "code",
   "execution_count": null,
   "metadata": {},
   "outputs": [],
   "source": [
    "from specutils.io import get_loaders_by_extension\n",
    "\n",
    "loaders = get_loaders_by_extension('fits')\n",
    "print(loaders)"
   ]
  },
  {
   "cell_type": "code",
   "execution_count": null,
   "metadata": {},
   "outputs": [],
   "source": [
    "from astropy.nddata import StdDevUncertainty\n",
    "from astropy.table import Table\n",
    "from astropy.units import Unit\n",
    "from astropy.wcs import WCS\n",
    "\n",
    "from specutils.io.registers import data_loader\n",
    "from specutils import Spectrum1D\n"
   ]
  },
  {
   "cell_type": "markdown",
   "metadata": {},
   "source": [
    "We need a list of FITS keywords and FIELD names from the BINTABLE that are going to be the meta-data\n",
    "associated with each spectrum.\n"
   ]
  },
  {
   "cell_type": "code",
   "execution_count": null,
   "metadata": {},
   "outputs": [],
   "source": [
    "# just a few important ones for now\n",
    "sdfits_headers = ['SCAN', 'PROCSEQN', 'CAL', 'OBJECT','SAMPLER', 'TSYS']\n",
    "\n"
   ]
  },
  {
   "cell_type": "markdown",
   "metadata": {},
   "source": [
    "We are registering a special fits reader for the spectra, and use a SpectrumList.\n"
   ]
  },
  {
   "cell_type": "code",
   "execution_count": null,
   "metadata": {},
   "outputs": [],
   "source": [
    "def identify_sdfits(origin, *args, **kwargs):\n",
    "    print(\"IDENTIFY_SDFITS\")\n",
    "    try:\n",
    "        with fits.open(args[0]) as hdulist:\n",
    "            extname = hdulist[1].header['EXTNAME']\n",
    "            if extname == 'SINGLE DISH':\n",
    "                print(\"Hurray, we have SDFITS\")\n",
    "                return True\n",
    "            else:\n",
    "                print(\"Warning, skipping extname %s\" % extname)\n",
    "                return False\n",
    "    except Exception:\n",
    "        return Falseflux + sl2[i].flux\n",
    "\n",
    "    "
   ]
  },
  {
   "cell_type": "code",
   "execution_count": null,
   "metadata": {},
   "outputs": [],
   "source": [
    "@data_loader(\"sdfits\", identifier=identify_sdfits, dtype=SpectrumList, extensions=['fits'])\n",
    "def sdfits_loader(file_name, spectral_axis_unit=None, **kwargs):\n",
    "\n",
    "    spectra = []\n",
    "    with fits.open(file_name, **kwargs) as hdulist:\n",
    "        header1= hdulist[0].header        \n",
    "        header2= hdulist[1].header\n",
    "        data   = hdulist[1].data\n",
    "        nrow   = len(data)\n",
    "        nchan  = 0\n",
    "        for i in range(nrow):\n",
    "            sp = data[i]['DATA']\n",
    "            if nchan==0:\n",
    "                nchan = len(sp)     # every spectrum in SDFITS has the same length\n",
    "            crval1  = data[i]['CRVAL1']\n",
    "            cdelt1  = data[i]['CDELT1']\n",
    "            crpix1  = data[i]['CRPIX1']\n",
    "            ctype1  = data[i]['CTYPE1']     # 'FREQ-OBS' to 'FREQ'; assuming SPECSYS='TOPOCENT'\n",
    "            restfrq = data[i]['RESTFREQ']\n",
    "            cunit1  = 'Hz'\n",
    "            crval2  = data[i]['CRVAL2']\n",
    "            crval3  = data[i]['CRVAL3']\n",
    "            ctype2  = data[i]['CTYPE2']\n",
    "            ctype3  = data[i]['CTYPE3']\n",
    "            if ctype1 == 'FREQ-OBS': ctype1  = 'FREQ'\n",
    "            wcs = WCS(header={'CDELT1': cdelt1, 'CRVAL1': crval1, 'CUNIT1': cunit1,\n",
    "                              'CTYPE1': ctype1, 'CRPIX1': crpix1, 'RESTFRQ': restfrq,\n",
    "                              'CTYPE2': ctype2, 'CRVAL2': crval2,\n",
    "                              'CTYPE3': ctype3, 'CRVAL3': crval3})\n",
    "                              \n",
    "\n",
    "            meta = {}\n",
    "            if False:\n",
    "                # adding the actual FITS headers is for debugging, but not in production mode\n",
    "                meta['header1'] = header1\n",
    "                meta['header2'] = header2\n",
    "            if True:\n",
    "                for key in sdfits_headers:\n",
    "                    if key in header1:\n",
    "                        meta[key] = header1[key]\n",
    "                    elif key in header2:\n",
    "                        meta[key] = header2[key]\n",
    "                    else:\n",
    "                        meta[key] = data[i][key]    # why doesn't       key in data[i]    work?\n",
    "                # add our row counter\n",
    "                meta['_row'] = i\n",
    "                        \n",
    "        \n",
    "            sp = sp * Unit('K')\n",
    "            spec = Spectrum1D(flux=sp, wcs=wcs, meta=meta)\n",
    "            spectra.append(spec)\n",
    "            \n",
    "    return  SpectrumList(spectra)"
   ]
  },
  {
   "cell_type": "markdown",
   "metadata": {},
   "source": [
    "Now we are ready for some action!\n"
   ]
  },
  {
   "cell_type": "code",
   "execution_count": null,
   "metadata": {},
   "outputs": [],
   "source": [
    "sl1 = SpectrumList.read(fname, format=\"sdfits\")\n",
    "nsp = len(sl1)\n",
    "print(\"Found %d spectra\" % nsp)\n",
    "for i in range(2):\n",
    "    my_stats(\"test\",sl1[i].flux.value)"
   ]
  },
  {
   "cell_type": "code",
   "execution_count": null,
   "metadata": {},
   "outputs": [],
   "source": [
    "a=sl1[0]-sl1[1]\n",
    "b=sl1[2]-sl1[3]\n",
    "print(a)\n",
    "print(b)\n",
    "try:\n",
    "    c = a + b\n",
    "except:\n",
    "    print(\"Cannot combine\")\n",
    "a1 = a / sl1[0]\n",
    "print(a1)\n",
    "# cannot do a+b, spectral axis is TOPO\n",
    "# does this imply that if our ephemeris isn't good enough, they will not align in doppler space\n",
    "# and thus refuse to be combined?"
   ]
  },
  {
   "cell_type": "code",
   "execution_count": null,
   "metadata": {},
   "outputs": [],
   "source": [
    "# lets look at the meta data where we know there are changes\n",
    "# there are 8 scans of 11 integrations each, two polarizations and the on/off cal cycle\n",
    "for i in [0,1,22,44,88]:\n",
    "    print(i,sl1[i].meta)\n"
   ]
  },
  {
   "cell_type": "code",
   "execution_count": null,
   "metadata": {},
   "outputs": [],
   "source": [
    "spectra = []\n",
    "for i in range(0,nsp,2):\n",
    "    spon  = sl1[i]         \n",
    "    spoff = sl1[i+1]\n",
    "    tsys  = sl1[i].meta['TSYS']\n",
    "    sp = (spon-spoff)/spoff.flux.value        # trick: otherwise it's loosing the units here\n",
    "    sp.meta = spon.meta\n",
    "    #sp.flux *= tsys           # this is silly, can't modify the flux.....\n",
    "    spectra.append(sp)\n",
    "sl2 =  SpectrumList(spectra)   "
   ]
  },
  {
   "cell_type": "code",
   "execution_count": null,
   "metadata": {},
   "outputs": [],
   "source": [
    "print(sp)\n",
    "a=sp.multiply(2*u.Unit('mJy'))   \n",
    "print(sp)\n",
    "print(a)\n",
    "a = a * (2*u.Unit('mJy'))\n",
    "print(a)\n"
   ]
  },
  {
   "cell_type": "code",
   "execution_count": null,
   "metadata": {},
   "outputs": [],
   "source": [
    "# just for fun, plot the lst On-Off\n",
    "spd = spon - spoff\n",
    "plt.plot(sl2[0].spectral_axis, spd.flux);"
   ]
  },
  {
   "cell_type": "code",
   "execution_count": null,
   "metadata": {},
   "outputs": [],
   "source": [
    "for i in [0,1,11,22]:\n",
    "    print(i,sl2[i].meta)"
   ]
  },
  {
   "cell_type": "code",
   "execution_count": null,
   "metadata": {},
   "outputs": [],
   "source": [
    "for i in range(len(sl2)):flux + sl2[i].flux\n",
    "    plt.plot(sl2[i].spectral_axis, sl2[i].flux)"
   ]
  },
  {
   "cell_type": "code",
   "execution_count": null,
   "metadata": {},
   "outputs": [],
   "source": [
    "# this is wrong, but i don't know why yet, noise seems to high too\n",
    "# something more must be going on in the getps() procedure\n",
    "# I'm averaging 8 scans here, but getps() example suggests only the odd ones\n",
    "sl3 = []\n",
    "flux = sl2[0].flux * 0.0\n",
    "for i in range(len(sl2)):\n",
    "    flux = flux + sl2[i].flux\n",
    "flux = flux / len(sl2)   \n",
    "plt.plot(sl2[0].spectral_axis,flux);\n",
    "        "
   ]
  },
  {
   "cell_type": "code",
   "execution_count": null,
   "metadata": {},
   "outputs": [],
   "source": [
    "sp = sl2[0]\n",
    "sp = sp.multiply(0*u.Unit('Jy'))     # the unit doesn't appear to be import, but it needs a unit\n",
    "print(sp)"
   ]
  },
  {
   "cell_type": "code",
   "execution_count": null,
   "metadata": {},
   "outputs": [],
   "source": [
    "for i in range(len(sl2)):\n",
    "    sp = sp.add(sl2[i])"
   ]
  },
  {
   "cell_type": "code",
   "execution_count": null,
   "metadata": {},
   "outputs": [],
   "source": []
  }
 ],
 "metadata": {
  "kernelspec": {
   "display_name": "Python 3",
   "language": "python",
   "name": "python3"
  },
  "language_info": {
   "codemirror_mode": {
    "name": "ipython",
    "version": 3
   },
   "file_extension": ".py",
   "mimetype": "text/x-python",
   "name": "python",
   "nbconvert_exporter": "python",
   "pygments_lexer": "ipython3",
   "version": "3.7.0"
  }
 },
 "nbformat": 4,
 "nbformat_minor": 2
}
