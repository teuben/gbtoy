{
 "cells": [
  {
   "cell_type": "markdown",
   "metadata": {},
   "source": [
    "# A specutils example for GBspec\n",
    "\n",
    "This version uses the SpectrumList container. Could also consider a list of Spectrum1D or a SpectrumCollection.\n",
    "\n",
    "This should reproduce Example 1 from the GBTIDL manual. The datafile you need is [here](http://safe.nrao.edu/wiki/pub/GB/Data/GBTIDLExampleAndSampleData/ngc5291.fits).\n",
    "\n",
    "## SDFITS\n",
    "\n",
    "We begin by disecting the typical SDFITS file, starting with raw plotting of a spectrum and some basic BINTABLE operations.\n"
   ]
  },
  {
   "cell_type": "code",
   "execution_count": null,
   "metadata": {},
   "outputs": [],
   "source": [
    "%matplotlib inline\n",
    "\n",
    "\n",
    "from astropy.io import fits\n",
    "from astropy import units as u\n",
    "import numpy as np\n",
    "from matplotlib import pyplot as plt\n",
    "from astropy.visualization import quantity_support\n",
    "from specutils import Spectrum1D, SpectrumList\n",
    "\n",
    "from astropy.nddata import StdDevUncertainty\n",
    "from astropy.table import Table\n",
    "from astropy.units import Unit\n",
    "from astropy.wcs import WCS\n",
    "\n",
    "from specutils.io import get_loaders_by_extension\n",
    "from specutils.io.registers import data_loader\n",
    "from specutils import Spectrum1D\n",
    "\n"
   ]
  },
  {
   "cell_type": "code",
   "execution_count": null,
   "metadata": {},
   "outputs": [],
   "source": [
    "## A  few useful functions"
   ]
  },
  {
   "cell_type": "code",
   "execution_count": null,
   "metadata": {},
   "outputs": [],
   "source": [
    "def my_stats(label,data,edge=0):\n",
    "    \"\"\"\n",
    "    display mean,rms,min,max,npts\n",
    "    also good for regression\n",
    "    \"\"\"\n",
    "    if edge > 0:\n",
    "        mean = data[edge:,-edge:].mean()\n",
    "        rms  = data[edge:,-edge:].std()\n",
    "        dmin = data[edge:,-edge:].min()\n",
    "        dmax = data[edge:,-edge:].max()\n",
    "    else:\n",
    "        mean = data.mean()\n",
    "        rms  = data.std()\n",
    "        dmin = data.min()\n",
    "        dmax = data.max()\n",
    "    print(\"%s  %s %s %s %s %d\" %  (label,repr(mean),repr(rms),repr(dmin),repr(dmax),len(data)-2*edge))"
   ]
  },
  {
   "cell_type": "code",
   "execution_count": null,
   "metadata": {},
   "outputs": [],
   "source": [
    "def dcmeantsys(calon,caloff,tcal,mode=0):\n",
    "    \"\"\"\n",
    "    following the GBTIDL routine with same name, get the tsys from the neighboring calon and caloff\n",
    "    \"\"\"\n",
    "    nchan = len(calon)\n",
    "    nedge = nchan // 10     # 10 %\n",
    "    if mode == 0:\n",
    "        meanoff = np.mean(caloff[nedge:-nedge])\n",
    "        meandiff = np.mean(calon[nedge:-nedge] - caloff[nedge:-nedge])\n",
    "        meanTsys = ( meanoff / meandiff * tcal + tcal/2.0 )\n",
    "    else:\n",
    "        meanTsys = np.mean( caloff[nedge:-nedge] / (calon[nedge:-nedge] - caloff[nedge:-nedge]) )\n",
    "        meanTsys = meanTsys * tcal + tcal/2.0\n",
    "    return meanTsys"
   ]
  },
  {
   "cell_type": "markdown",
   "metadata": {},
   "source": [
    "And a worker routine, so we can benchmark some common operations on SD data"
   ]
  },
  {
   "cell_type": "code",
   "execution_count": null,
   "metadata": {},
   "outputs": [],
   "source": [
    "def my_worker1(data,tsys):\n",
    "    \"\"\" \n",
    "    an example of a simple ON/OFF for all rows, disregarding the all important PROCSEQN (see worker2)\n",
    "    \"\"\"\n",
    "    (nrow,nchan) = data.shape\n",
    "    print(data.shape)\n",
    "    nrow2 = nrow//2\n",
    "    data2 = np.zeros(nrow2*nchan).reshape(nrow2, nchan)\n",
    "    for row in range(0,nrow,2):\n",
    "        d1 = data[row]       # ON\n",
    "        d0 = data[row+1]     # OFF\n",
    "        data2[row//2] = tsys * (d1-d0) / d0\n",
    "    return data2"
   ]
  },
  {
   "cell_type": "code",
   "execution_count": null,
   "metadata": {},
   "outputs": [],
   "source": [
    "def my_worker2(data,tcal,nint=11,nscan=4):\n",
    "    \"\"\" \n",
    "    an example of a PS style sequence of on/off:\n",
    "    it takes 4 phases to create an integration\n",
    "    The nint=11 should NOT be changed, this is for example1\n",
    "    The nscan=4 can be changed to 2 and 1 if you want to test.\n",
    "    \"\"\"\n",
    "    (nrow,nchan) = data.shape\n",
    "    # reduction by 4:     2 from calon/caloff    2 from procseqn ON/OFF\n",
    "    nrow4 = nrow * nscan // 4 // 4\n",
    "    data4 = np.zeros(nrow4*nchan).reshape(nrow4, nchan)\n",
    "    i=0\n",
    "    for iscan in range(nscan):\n",
    "        for iint in range(nint*2):\n",
    "            i1 = iscan*nint*2*2*2 + iint*2   # calon    \"ON\"\n",
    "            i2 = i1 + 1                      # caloff\n",
    "            i3 = i1 + 2*nint*2               # calon    \"OFF\"\n",
    "            i4 = i3 + 1                      # caloff\n",
    "            ton1  = data[i1]\n",
    "            toff1 = data[i2]\n",
    "            tsys1 = dcmeantsys(ton1,toff1,tcal[i1])\n",
    "            ton2  = data[i3]\n",
    "            toff2 = data[i4]\n",
    "            tsys2 = dcmeantsys(ton2,toff2,tcal[i3])\n",
    "            #print(i,i1,i3,tsys1,tsys2)\n",
    "            # review this math, i'm not getting the exact GBTIDL numbers out\n",
    "            tsys = 0.5*(tsys1+tsys2)\n",
    "            t1 = tsys * (toff1-toff2)/toff2\n",
    "            t2 = tsys * (ton1-ton2)/ton2\n",
    "            data4[i] = 0.5*(t1+t2)\n",
    "            i=i+1\n",
    "    return data4"
   ]
  },
  {
   "cell_type": "markdown",
   "metadata": {},
   "source": [
    "## Input parameters\n",
    "\n",
    "define the SDFITS file name and which row (0 being the first) we want to plot the spectrum of"
   ]
  },
  {
   "cell_type": "code",
   "execution_count": null,
   "metadata": {},
   "outputs": [],
   "source": [
    "fname = 'ngc5291.fits'                         # 45MB    GBTIDL manual, ex1\n",
    "#fname = 'AGBT15B_287_39.raw.vegas.A.fits'     # 386MB   EDGE (one of 6)\n",
    "#fname = 'AGBT17B_151_01.raw.vegas.A.fits'     # 72MB    argus (one of 8)\n",
    "row   = 0"
   ]
  },
  {
   "cell_type": "markdown",
   "metadata": {},
   "source": [
    "Open the FITS file and point to the 2nd HDU, where the BINTABLE is located. No error checking. Data isn't really read yet."
   ]
  },
  {
   "cell_type": "code",
   "execution_count": null,
   "metadata": {},
   "outputs": [],
   "source": [
    "%%time\n",
    "# 20ms: for ex1  fast because data is not really put in memory?\n",
    "# 40ms for EDGE\n",
    "nrow=0\n",
    "try:\n",
    "    hdu = fits.open(fname)\n",
    "    header2 = hdu[1].header\n",
    "    data2   = hdu[1].data\n",
    "    nrow = len(data2)\n",
    "    print(\"Found %d rows in %s\" % (nrow,fname))\n",
    "except:\n",
    "    print(\"*** Error ***\")"
   ]
  },
  {
   "cell_type": "markdown",
   "metadata": {},
   "source": [
    "Lets stat all the numbers (nrow * nchan)"
   ]
  },
  {
   "cell_type": "code",
   "execution_count": null,
   "metadata": {},
   "outputs": [],
   "source": [
    "%%time\n",
    "# 790ms for ex1\n",
    "my_stats(fname,data2[:]['DATA'])"
   ]
  },
  {
   "cell_type": "markdown",
   "metadata": {},
   "source": [
    "Grab spectrum by row number. Get some stats (mean, rms, min, max)"
   ]
  },
  {
   "cell_type": "code",
   "execution_count": null,
   "metadata": {},
   "outputs": [],
   "source": [
    "%%time \n",
    "#  3ms\n",
    "flux  = data2[row]['DATA']  \n",
    "nchan = len(flux)\n",
    "chans = np.arange(nchan)\n",
    "print(\"Found %d channels\" % nchan)\n",
    "#\n",
    "my_stats('STATS for row %d:' % row,flux)"
   ]
  },
  {
   "cell_type": "markdown",
   "metadata": {},
   "source": [
    "A super simple plot, channel number vs. flux."
   ]
  },
  {
   "cell_type": "code",
   "execution_count": null,
   "metadata": {},
   "outputs": [],
   "source": [
    "plt.plot(chans,flux)\n",
    "plt.xlabel(\"Channel\")\n",
    "plt.ylabel(\"Flux\");\n",
    "plt.title(\"Raw Spectrum - row %d\" % row);"
   ]
  },
  {
   "cell_type": "markdown",
   "metadata": {},
   "source": [
    "This is a raw spectrum, mostly showing sky and bandpass.Hidden is a tiny signal, not even visible in the plot. For this we need to collect an \"On\" and \"Off\" spectrum and normalize this difference. \n",
    "\n",
    "### Columns and Rows in the BINTABLE\n",
    "\n",
    "Apart from the 'DATA' column (which is the spectrum), there are lots of meta-data that we would like to keep. Most of these are scalars, so they can be retrieved as vectors of length **nrow**, e.g. the TCAL variable that is crucial for calibration."
   ]
  },
  {
   "cell_type": "code",
   "execution_count": null,
   "metadata": {},
   "outputs": [],
   "source": [
    "%%time \n",
    "# 17ms\n",
    "tcal  = data2[:]['TCAL']  \n",
    "rec   = np.arange(len(tcal))\n",
    "print(\"TCAL mean/rms/min/max/ndata:\")\n",
    "my_stats('TCAL',tcal)"
   ]
  },
  {
   "cell_type": "code",
   "execution_count": null,
   "metadata": {},
   "outputs": [],
   "source": [
    "plt.plot(rec,tcal);"
   ]
  },
  {
   "cell_type": "markdown",
   "metadata": {},
   "source": [
    "Now a simple worker that performs an ON/OFF type operation on all columns. No data is returned, we just want to measure the speed. It will need the **tcal** column from the previous cell.\n",
    "\n",
    "First a convenient numpy array data[nrow,nchans] that are the spectra (cf.waterfall plot)"
   ]
  },
  {
   "cell_type": "code",
   "execution_count": null,
   "metadata": {},
   "outputs": [],
   "source": [
    "%%time\n",
    "# 15 ms\n",
    "spectra = data2[:]['DATA']"
   ]
  },
  {
   "cell_type": "code",
   "execution_count": null,
   "metadata": {},
   "outputs": [],
   "source": [
    "%%time\n",
    "#   0.004 empty call\n",
    "#   185 ms just computing\n",
    "#   214 ms stuffing it into an array (and returning it)\n",
    "#   765 ms for EDGE\n",
    "spectra2 = my_worker1(spectra, tcal)"
   ]
  },
  {
   "cell_type": "code",
   "execution_count": null,
   "metadata": {},
   "outputs": [],
   "source": [
    "plt.plot(chans,spectra2[row]);"
   ]
  },
  {
   "cell_type": "markdown",
   "metadata": {},
   "source": [
    "###  An example of the ON/OFF calibration\n",
    "\n",
    "$$\n",
    "     T_A = T_{sys} { { (ON-OFF)} \\over {ON} }\n",
    "$$\n",
    "\n",
    "from GBTIDL's dcmeantsys.pro\n",
    "\n",
    "    ;  mean_tsys = tcal * mean(nocal) / (mean(withcal-nocal)) + tcal/2.0\n",
    "    \n",
    "    \n",
    "alternatively, one can also define **tsys** as function of spectrum, we try both below.\n",
    "\n",
    "$$   \n",
    "        T_{sys} = T_{cal}  { { (ON)} \\over {ON-OFF} } + T_{cal}/2\n",
    "$$\n",
    "\n",
    "First, let's see how/where the data does the ON/OFF:"
   ]
  },
  {
   "cell_type": "code",
   "execution_count": null,
   "metadata": {},
   "outputs": [],
   "source": [
    "ra = data2[:]['CRVAL2']  \n",
    "dec = data2[:]['CRVAL3']\n",
    "rec = range(len(ra))\n",
    "plt.subplot(2,1,1)\n",
    "plt.plot(rec,dec)\n",
    "plt.subplot(2,1,2)\n",
    "plt.plot(rec,ra);\n",
    "my_stats('ra',ra)\n",
    "my_stats('dec',dec)"
   ]
  },
  {
   "cell_type": "markdown",
   "metadata": {},
   "source": [
    "Hence it is nodding in DEC only. Plus some very spurious deviations in RA, but small"
   ]
  },
  {
   "cell_type": "code",
   "execution_count": null,
   "metadata": {},
   "outputs": [],
   "source": [
    "tcal1  = tcal[0]    # the first tcal in PROCSEQN=1\n",
    "tcal2  = tcal[44]   # and in 2\n",
    "print(tcal1,tcal2)  # they are the same, these are both XX\n",
    "print(tcal[22])     # for the YY they are slightly different"
   ]
  },
  {
   "cell_type": "code",
   "execution_count": null,
   "metadata": {},
   "outputs": [],
   "source": [
    "ton1 = spectra[0]\n",
    "toff1 = spectra[1]\n",
    "plt.plot(chans,ton1)\n",
    "plt.plot(chans,toff1);"
   ]
  },
  {
   "cell_type": "code",
   "execution_count": null,
   "metadata": {
    "scrolled": true
   },
   "outputs": [],
   "source": [
    "tsys1 = tcal1 * toff1 / (ton1 - toff1) + tcal1/2.0\n",
    "plt.plot(chans,tsys1)\n",
    "my_stats('tsys1',tsys1[6000:12000])\n",
    "# my_stats('tsys1',tsys1,nchan//10)"
   ]
  },
  {
   "cell_type": "code",
   "execution_count": null,
   "metadata": {},
   "outputs": [],
   "source": [
    "tsys1 = dcmeantsys(ton1,toff1,tcal1,0)\n",
    "print(tsys1)\n",
    "ta1 = tsys1 * (ton1-toff1)/toff1\n",
    "plt.plot(chans,ta1)\n",
    "my_stats('ta1',ta1[6000:12000])"
   ]
  },
  {
   "cell_type": "markdown",
   "metadata": {},
   "source": [
    "now we repeat this for PROCSEQ=2, so records 44 and 45 for the on/off (or will be be off/on ???)"
   ]
  },
  {
   "cell_type": "code",
   "execution_count": null,
   "metadata": {},
   "outputs": [],
   "source": [
    "ton2 = spectra[44]\n",
    "toff2 = spectra[45]\n",
    "plt.plot(chans,ton2)\n",
    "plt.plot(chans,toff2)\n",
    "#\n",
    "tsys2 = dcmeantsys(ton2,toff2,tcal2)\n",
    "print(tsys2)"
   ]
  },
  {
   "cell_type": "code",
   "execution_count": null,
   "metadata": {},
   "outputs": [],
   "source": [
    "tsys = (tsys1+tsys2)/2\n",
    "print(tsys)\n",
    "ta = tsys * (toff1-toff2)/toff2\n",
    "plt.plot(chans,ta)\n",
    "my_stats('ta',ta[6000:12001])"
   ]
  },
  {
   "cell_type": "markdown",
   "metadata": {},
   "source": [
    "Now repeat this for all spectra via the specially handcrafted worker2 function:"
   ]
  },
  {
   "cell_type": "code",
   "execution_count": null,
   "metadata": {},
   "outputs": [],
   "source": []
  },
  {
   "cell_type": "code",
   "execution_count": null,
   "metadata": {
    "scrolled": true
   },
   "outputs": [],
   "source": [
    "spectra4 = my_worker2(spectra,tcal,nscan=4)\n",
    "print(\"Found %d spectra4\" % len(spectra4))\n",
    "\n",
    "ave = np.zeros(nchan)\n",
    "for i in range(len(spectra4)):\n",
    "    ave = ave + spectra4[i]\n",
    "ave = ave / len(spectra4)\n",
    "plt.plot(chans,ave)\n",
    "plt.xlim(14500,18000)\n",
    "plt.ylim(0.20,0.60)\n",
    "my_stats('ave',ave[6000:12001])"
   ]
  },
  {
   "cell_type": "code",
   "execution_count": null,
   "metadata": {},
   "outputs": [],
   "source": [
    "from astropy.convolution import convolve, Box1DKernel\n",
    "\n",
    "ave2 = convolve(ave, Box1DKernel(51))\n",
    "plt.plot(chans,ave,'b.')\n",
    "plt.plot(chans,ave2,'r')\n",
    "plt.xlim(14500,18000)\n",
    "plt.ylim(0.20,0.60)"
   ]
  },
  {
   "cell_type": "markdown",
   "metadata": {},
   "source": [
    "### A few words on row organization\n",
    "\n",
    "All the magic of how calibration is done is in the organization and labeling of the rows. For the **position switching** of the NGC5271 data we will see 352 rows organized in a 5D matrix as follows:\n",
    "\n",
    "    DATA(cal,int,sampler,procseqn,scan)\n",
    "          2   11    2        2      4\n",
    "          \n",
    "with the following notes:\n",
    "\n",
    "* DATA is labeled in column-major (\"fortran\") order, i.e. the first listed dimension runs fastest\n",
    "* 2 * 11 * 2 * 2 * 4 = 352\n",
    "* each procseqn also increments the scan number, so there are really 8 scan values but only 4 in that dimension\n",
    "* each sampler is taken at the same time, so this means after 22 rows (cal * int) , time repeats in the next \n",
    "  sampler (the XX and YY pol in this case)\n",
    "* in this data samplers point to different polarizations, in argus samplers are the beams/feeds for a single XX polarization, so the SAMPLER slot in the data can be used for different means\n",
    "* for this type of PS data, the procseqn defines the ON (1) and the OFF (2) position\n",
    "* Depending on observing modes, the dimensionality of the DATA is different, e.g. for nod data at GBT we see\n",
    "         DATA(cal, int, pol, sampler, procseqn, scan)\n",
    "  "
   ]
  },
  {
   "cell_type": "code",
   "execution_count": null,
   "metadata": {},
   "outputs": [],
   "source": []
  },
  {
   "cell_type": "code",
   "execution_count": null,
   "metadata": {},
   "outputs": [],
   "source": []
  },
  {
   "cell_type": "markdown",
   "metadata": {},
   "source": [
    "### How about Pandas DataFrame's ?\n",
    "\n",
    "A pandas dataframe could contain the whole BINTABLE, and with an attached 'engine' reduce the rows in the waterfall plot to lower dimension (eventually 1 if it's a single pointing), which is the desired result. \n",
    "Compare this with operators such as **np.sum(axis=1)/nrow** if you just want to get an average spectrum."
   ]
  },
  {
   "cell_type": "code",
   "execution_count": null,
   "metadata": {},
   "outputs": [],
   "source": [
    "from astropy.table import Table\n",
    "import pandas\n",
    "\n",
    "t= Table.read(fname,format='fits') \n",
    "if 'TDIM7' in t.colnames:\n",
    "    print(\"Expect trouble, there is TDIM7\")\n",
    "t.meta\n",
    "df = t.to_pandas()"
   ]
  },
  {
   "cell_type": "code",
   "execution_count": null,
   "metadata": {},
   "outputs": [],
   "source": [
    "import pandas as pd\n",
    "#import modin.pandas as pd\n",
    "# import xray\n",
    "\n",
    "x = np.arange(0,10)\n",
    "x2 = x.reshape(5,2)\n",
    "y = np.sqrt(x)\n",
    "point = {'x': x2,    'y' : y}\n",
    "points = 10 * [point]\n",
    "\n",
    "#\n",
    "df = pd.DataFrame().append(points)\n",
    "df.x[4]\n",
    "\n",
    "# so in other words, bintable to panda's manually is ok, but not via the Table interface"
   ]
  },
  {
   "cell_type": "markdown",
   "metadata": {},
   "source": [
    "### Adding astropy units to the X and Y axis\n",
    "\n",
    "specutils likes to work with things that have units. astropy to the rescue"
   ]
  },
  {
   "cell_type": "code",
   "execution_count": null,
   "metadata": {},
   "outputs": [],
   "source": [
    "crval1 = data2[row]['CRVAL1']\n",
    "cdelt1 = data2[row]['CDELT1']\n",
    "crpix1 = data2[row]['CRPIX1']\n",
    "freq0  = data2[row]['RESTFREQ']\n",
    "freq = (crval1 + (np.arange(1,nchan+1) - crpix1) * cdelt1)/1e9\n",
    "#\n",
    "flux = flux * u.Unit(\"K\")      # where is this in the header, we're assuming\n",
    "freq = freq * u.Unit(\"GHz\")    # or check CUNIT1 - usually not present in SDFITS files though"
   ]
  },
  {
   "cell_type": "code",
   "execution_count": null,
   "metadata": {},
   "outputs": [],
   "source": [
    "# even though we've attached astropy units, they still work in matplotlib plotting\n",
    "plt.plot(freq,flux)\n",
    "plt.xlabel(\"Freq [%s]\" % freq.unit)\n",
    "plt.ylabel(\"Flux [%s]\" % flux.unit);"
   ]
  },
  {
   "cell_type": "markdown",
   "metadata": {},
   "source": [
    "### Creating a simple Spectrum1D object from specutils"
   ]
  },
  {
   "cell_type": "code",
   "execution_count": null,
   "metadata": {},
   "outputs": [],
   "source": [
    "spec = Spectrum1D(spectral_axis=freq, flux=flux)"
   ]
  },
  {
   "cell_type": "code",
   "execution_count": null,
   "metadata": {},
   "outputs": [],
   "source": [
    "f, ax = plt.subplots()  \n",
    "ax.step(spec.spectral_axis, spec.flux);\n",
    "# darn, the spectral axis still has 1e9 units, and it doesn't identify the units"
   ]
  },
  {
   "cell_type": "markdown",
   "metadata": {},
   "source": [
    "## Designing our own reader in specutils\n",
    "\n",
    "The specutils manual explains how to make your own reader. At the moment of writing there is no \"sdfits\" reader, so we're making a simple example with just a few meta-data. But this will simplify working with specutils."
   ]
  },
  {
   "cell_type": "code",
   "execution_count": null,
   "metadata": {},
   "outputs": [],
   "source": [
    "loaders = get_loaders_by_extension('fits')\n",
    "print(loaders)"
   ]
  },
  {
   "cell_type": "markdown",
   "metadata": {},
   "source": [
    "We need a list of FITS keywords and FIELD names from the BINTABLE that are going to be the meta-data\n",
    "associated with each spectrum.\n"
   ]
  },
  {
   "cell_type": "code",
   "execution_count": null,
   "metadata": {},
   "outputs": [],
   "source": [
    "# just a few important ones for now, there are about 70 in the full SDFITS\n",
    "\n",
    "sdfits_headers = ['SCAN', 'PROCSEQN', 'CAL', 'OBJECT','SAMPLER', 'TCAL']"
   ]
  },
  {
   "cell_type": "markdown",
   "metadata": {},
   "source": [
    "We are registering a special fits reader for the spectra, and use a SpectrumList.\n"
   ]
  },
  {
   "cell_type": "code",
   "execution_count": null,
   "metadata": {},
   "outputs": [],
   "source": [
    "def identify_sdfits(origin, *args, **kwargs):\n",
    "    print(\"IDENTIFY_SDFITS\")\n",
    "    try:\n",
    "        with fits.open(args[0]) as hdulist:\n",
    "            extname = hdulist[1].header['EXTNAME']\n",
    "            if extname == 'SINGLE DISH':\n",
    "                print(\"Hurray, we have SDFITS\")\n",
    "                return True\n",
    "            else:\n",
    "                print(\"Warning, skipping extname %s\" % extname)\n",
    "                return False\n",
    "    except Exception:\n",
    "        return Falseflux + sl2[i].flux\n",
    "\n",
    "    "
   ]
  },
  {
   "cell_type": "code",
   "execution_count": null,
   "metadata": {},
   "outputs": [],
   "source": [
    "@data_loader(\"sdfits\", identifier=identify_sdfits, dtype=SpectrumList, extensions=['fits'])\n",
    "def sdfits_loader(file_name, spectral_axis_unit=None, **kwargs):\n",
    "\n",
    "    spectra = []\n",
    "    with fits.open(file_name, **kwargs) as hdulist:\n",
    "        header1= hdulist[0].header        \n",
    "        header2= hdulist[1].header\n",
    "        data   = hdulist[1].data\n",
    "        nrow   = len(data)\n",
    "        nchan  = 0\n",
    "        for i in range(nrow):\n",
    "            sp = data[i]['DATA']\n",
    "            if nchan==0:\n",
    "                nchan = len(sp)     # every spectrum in SDFITS has the same length\n",
    "            crval1  = data[i]['CRVAL1']\n",
    "            cdelt1  = data[i]['CDELT1']\n",
    "            crpix1  = data[i]['CRPIX1']\n",
    "            ctype1  = data[i]['CTYPE1']     # 'FREQ-OBS' to 'FREQ'; assuming SPECSYS='TOPOCENT'\n",
    "            restfrq = data[i]['RESTFREQ']\n",
    "            cunit1  = 'Hz'\n",
    "            crval2  = data[i]['CRVAL2']\n",
    "            crval3  = data[i]['CRVAL3']\n",
    "            ctype2  = data[i]['CTYPE2']\n",
    "            ctype3  = data[i]['CTYPE3']\n",
    "            if ctype1 == 'FREQ-OBS': ctype1  = 'FREQ'\n",
    "            wcs = WCS(header={'CDELT1': cdelt1, 'CRVAL1': crval1, 'CUNIT1': cunit1,\n",
    "                              'CTYPE1': ctype1, 'CRPIX1': crpix1, 'RESTFRQ': restfrq,\n",
    "                              'CTYPE2': ctype2, 'CRVAL2': crval2,\n",
    "                              'CTYPE3': ctype3, 'CRVAL3': crval3})\n",
    "                              \n",
    "\n",
    "            meta = {}\n",
    "            if False:\n",
    "                # adding the actual FITS headers is for debugging, but not in production mode\n",
    "                meta['header1'] = header1\n",
    "                meta['header2'] = header2\n",
    "            if True:\n",
    "                for key in sdfits_headers:\n",
    "                    if key in header1:\n",
    "                        meta[key] = header1[key]\n",
    "                    elif key in header2:\n",
    "                        meta[key] = header2[key]\n",
    "                    else:\n",
    "                        meta[key] = data[i][key]    # why doesn't       key in data[i]    work?\n",
    "                # add our row counter\n",
    "                meta['_row'] = i\n",
    "                        \n",
    "        \n",
    "            sp = sp * Unit('K')\n",
    "            spec = Spectrum1D(flux=sp, wcs=wcs, meta=meta)\n",
    "            spectra.append(spec)\n",
    "            \n",
    "    return  SpectrumList(spectra)"
   ]
  },
  {
   "cell_type": "markdown",
   "metadata": {},
   "source": [
    "Now we are ready for some action! But lets define a small spectrum plotter with some nicer units\n",
    "\n"
   ]
  },
  {
   "cell_type": "code",
   "execution_count": null,
   "metadata": {},
   "outputs": [],
   "source": [
    "def my_plot(sp, kms=False):\n",
    "    \"\"\" plot a Spectrum1D \n",
    "    \"\"\"\n",
    "    if kms:\n",
    "        x = sp.velocity   # doesn't work\n",
    "    else:\n",
    "        x = sp.spectral_axis / (1 * Unit(\"Hz\"))/1e6\n",
    "    if False:\n",
    "        plt.plot(x, sp.flux)\n",
    "        plt.xlabel('Frequency [MHz]')\n",
    "        plt.ylabel('Flux [%s]' % sp.flux.unit)\n",
    "    else:\n",
    "        f, ax = plt.subplots()  # doctest: +IGNORE_OUTPUT\n",
    "        ax.step(sp.spectral_axis, sp.flux) "
   ]
  },
  {
   "cell_type": "code",
   "execution_count": null,
   "metadata": {},
   "outputs": [],
   "source": [
    "%%time\n",
    "# 3004 spectra in 7.5sec  \n",
    "# 352 spectra in 931ms for ex1)\n",
    "sl1 = SpectrumList.read(fname, format=\"sdfits\")\n",
    "nsp = len(sl1)\n",
    "print(\"Found %d spectra\" % nsp)"
   ]
  },
  {
   "cell_type": "code",
   "execution_count": null,
   "metadata": {},
   "outputs": [],
   "source": [
    "print(\"Here are the first two spectra, the CalOn and CalOff\")\n",
    "for i in range(2):\n",
    "    my_stats(\"spec    \",sl1[i].flux.value)\n",
    "    my_stats(\"bintable\",spectra[i])"
   ]
  },
  {
   "cell_type": "code",
   "execution_count": null,
   "metadata": {},
   "outputs": [],
   "source": [
    "sp  = sl1[0]\n",
    "x=sp.spectral_axis/(1 * Unit(\"Hz\"))/1e6\n",
    "y=sp.flux\n",
    "type(y)\n",
    "print(y.unit)\n"
   ]
  },
  {
   "cell_type": "code",
   "execution_count": null,
   "metadata": {},
   "outputs": [],
   "source": [
    "# here is an issue:    cannot combine the ON and OFF for example if taken on different times\n",
    "\n",
    "a=sl1[0]-sl1[1]\n",
    "b=sl1[2]-sl1[3]\n",
    "print(a)\n",
    "print(b)\n",
    "try:\n",
    "    c = a + b\n",
    "except:\n",
    "    print(\"*** Cannot combine ***\")\n",
    "a1 = a / sl1[0]\n",
    "print(a1)\n",
    "# cannot do a+b, spectral axis is TOPO\n",
    "# does this imply that if our ephemeris isn't good enough, they will not align in doppler space\n",
    "# and thus refuse to be combined?"
   ]
  },
  {
   "cell_type": "code",
   "execution_count": null,
   "metadata": {},
   "outputs": [],
   "source": [
    "# lets look at the meta data where we know there are changes\n",
    "# there are 8 scans of 11 integrations each, two polarizations and the on/off cal cycle\n",
    "for i in [0,1,22,44,88]:\n",
    "    print(i,sl1[i].meta)\n"
   ]
  },
  {
   "cell_type": "code",
   "execution_count": null,
   "metadata": {},
   "outputs": [],
   "source": [
    "%%time \n",
    "# 7.5s  (1.0s for ex1)\n",
    "# this is like my_worker1() presented earlier\n",
    "Spectra = []\n",
    "for i in range(0,nsp,2):\n",
    "    sp1 = sl1[i]      # this is the ON in PROCSEQN=1     \n",
    "    sp2 = sl1[i+1]\n",
    "    tsys = sl1[i].meta['TCAL']\n",
    "    sp = (sp1-sp2)/sp2.flux.value * tsys     # don't use the units.....       \n",
    "    sp.meta = sp1.meta\n",
    "    #sp.flux *= tsys           # this is silly, can't modify the flux.....\n",
    "    Spectra.append(sp)\n",
    "    \n",
    "sl2 =  SpectrumList(Spectra)   "
   ]
  },
  {
   "cell_type": "markdown",
   "metadata": {},
   "source": [
    "Take the first calibrated spectrum, and see how it compares ith GBTIDL"
   ]
  },
  {
   "cell_type": "code",
   "execution_count": null,
   "metadata": {},
   "outputs": [],
   "source": [
    "# GBTIDL:  getps,51,intnum=0  &  stats,/full\n",
    "# 0.27865 0.16342 -1.5897 1.8587\n",
    "my_stats(\"first R:\",sl2[0].flux)\n",
    "#my_plot(sl2[0])\n",
    "plt.plot(chans,sl2[0].flux)\n",
    "print(len(sl2))"
   ]
  },
  {
   "cell_type": "code",
   "execution_count": null,
   "metadata": {},
   "outputs": [],
   "source": [
    "print(sp)\n",
    "a = sp * 2\n",
    "print(a)\n",
    "a=sp.multiply(2*u.Unit('mJy'))   \n",
    "print(sp)\n",
    "print(a)\n",
    "a = a * (2*u.Unit('mJy'))\n",
    "print(a)\n"
   ]
  },
  {
   "cell_type": "code",
   "execution_count": null,
   "metadata": {},
   "outputs": [],
   "source": [
    "for i in [0,1,11,22]:\n",
    "    print(i,sl2[i].meta)"
   ]
  },
  {
   "cell_type": "code",
   "execution_count": null,
   "metadata": {},
   "outputs": [],
   "source": [
    "from specutils.manipulation import (box_smooth, gaussian_smooth, trapezoid_smooth)\n",
    "print(sp\n",
    "    )\n",
    "spec1 = Spectrum1D(flux=ave*u.Unit(\"K\"), wcs=sp.wcs, meta=sp.meta)\n",
    "spec1_bsmooth = box_smooth(spec1, width=3)\n",
    "spec1_gsmooth = gaussian_smooth(spec1, stddev=3)\n",
    "spec1_tsmooth = trapezoid_smooth(spec1, width=3)"
   ]
  },
  {
   "cell_type": "code",
   "execution_count": null,
   "metadata": {},
   "outputs": [],
   "source": [
    "plt.plot(chans, spec1.flux) \n",
    "plt.xlim(14500,18000)\n",
    "plt.ylim(0.2,0.6)"
   ]
  },
  {
   "cell_type": "code",
   "execution_count": null,
   "metadata": {},
   "outputs": [],
   "source": []
  },
  {
   "cell_type": "code",
   "execution_count": null,
   "metadata": {},
   "outputs": [],
   "source": [
    "plt.plot(chans, spec1_bsmooth.flux) \n",
    "plt.title(\"Boxcar Smooth\")\n",
    "plt.xlim(14500,18000)\n",
    "plt.ylim(0.2,0.6)"
   ]
  },
  {
   "cell_type": "code",
   "execution_count": null,
   "metadata": {},
   "outputs": [],
   "source": []
  },
  {
   "cell_type": "code",
   "execution_count": null,
   "metadata": {},
   "outputs": [],
   "source": [
    "plt.plot(chans, spec1_gsmooth.flux)\n",
    "plt.title(\"Gaussian Smooth\")\n",
    "plt.xlim(14500,18000)\n",
    "plt.ylim(0.2,0.6)"
   ]
  },
  {
   "cell_type": "code",
   "execution_count": null,
   "metadata": {},
   "outputs": [],
   "source": []
  },
  {
   "cell_type": "code",
   "execution_count": null,
   "metadata": {},
   "outputs": [],
   "source": [
    "plt.plot(chans, spec1_tsmooth.flux) \n",
    "plt.title(\"Trapezoid Smooth\")\n",
    "plt.xlim(14500,18000)\n",
    "plt.ylim(0.2,0.6)"
   ]
  },
  {
   "cell_type": "code",
   "execution_count": null,
   "metadata": {},
   "outputs": [],
   "source": []
  }
 ],
 "metadata": {
  "kernelspec": {
   "display_name": "Python 3",
   "language": "python",
   "name": "python3"
  },
  "language_info": {
   "codemirror_mode": {
    "name": "ipython",
    "version": 3
   },
   "file_extension": ".py",
   "mimetype": "text/x-python",
   "name": "python",
   "nbconvert_exporter": "python",
   "pygments_lexer": "ipython3",
   "version": "3.7.0"
  }
 },
 "nbformat": 4,
 "nbformat_minor": 2
}
