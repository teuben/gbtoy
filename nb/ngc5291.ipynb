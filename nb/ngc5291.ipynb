{
 "cells": [
  {
   "cell_type": "markdown",
   "metadata": {},
   "source": [
    "# GBT spectra dissection:    BINTABLE, Pandas and SpecUtils\n",
    "\n",
    "This version uses the SpectrumList container. Could also consider a list of Spectrum1D or a SpectrumCollection. Before we get to this, we first use very basic BINTABLE access.\n",
    "\n",
    "This should reproduce Example 1 (position switching) from the GBTIDL manual. The datafile **ngc5291.fits** you need is [here](http://safe.nrao.edu/wiki/pub/GB/Data/GBTIDLExampleAndSampleData/ngc5291.fits) or locally on **/n/chara/teuben/GBT**.  Some code in here is hardcoded for this fits file, do not try it on other SDFITS files without knowing the tricks."
   ]
  },
  {
   "cell_type": "code",
   "execution_count": null,
   "metadata": {},
   "outputs": [],
   "source": [
    "%matplotlib inline\n",
    "\n",
    "from astropy.io import fits\n",
    "from astropy import units as u\n",
    "import numpy as np\n",
    "import matplotlib\n",
    "from matplotlib import pyplot as plt\n",
    "from astropy.visualization import quantity_support\n",
    "from specutils import Spectrum1D, SpectrumList\n",
    "\n",
    "from astropy.io import ascii\n",
    "from astropy.nddata import StdDevUncertainty\n",
    "from astropy.table import Table\n",
    "from astropy.units import Unit\n",
    "from astropy.wcs import WCS\n",
    "from astropy.convolution import convolve, Box1DKernel\n",
    "\n",
    "from specutils.io import get_loaders_by_extension\n",
    "from specutils.io.registers import data_loader\n",
    "from specutils import Spectrum1D"
   ]
  },
  {
   "cell_type": "markdown",
   "metadata": {},
   "source": [
    "## SDFITS\n",
    "\n",
    "We begin by dissecting the typical SDFITS file, starting with raw plotting of a spectrum and some basic BINTABLE operations.\n",
    "\n",
    "The data in a bintable has **rows** and **columns**.   Within GBTIDL a **row** is sometimes also referred to as a **record** and sometimes **#index**."
   ]
  },
  {
   "cell_type": "markdown",
   "metadata": {},
   "source": [
    "## First a few useful functions"
   ]
  },
  {
   "cell_type": "code",
   "execution_count": null,
   "metadata": {},
   "outputs": [],
   "source": [
    "def my_stats(label,data,edge=0,verbose=True):\n",
    "    \"\"\"\n",
    "    display mean,rms,min,max,npts\n",
    "    also good for regression\n",
    "    can optionally take some edges of either side (check)\n",
    "    \"\"\"\n",
    "    if edge > 0:\n",
    "        mean = data[edge:-edge].mean()\n",
    "        rms  = data[edge:-edge].std()\n",
    "        dmin = data[edge:-edge].min()\n",
    "        dmax = data[edge:-edge].max()\n",
    "    else:\n",
    "        mean = data.mean()\n",
    "        rms  = data.std()\n",
    "        dmin = data.min()\n",
    "        dmax = data.max()\n",
    "    if verbose:\n",
    "        print(\"%s  %s %s %s %s %d\" %  (label,repr(mean),repr(rms),repr(dmin),repr(dmax),len(data)-2*edge))\n",
    "    return (mean,rms,dmin,dmax,len(data)-2*edge)"
   ]
  },
  {
   "cell_type": "code",
   "execution_count": null,
   "metadata": {},
   "outputs": [],
   "source": [
    "def dcmeantsys(calon,caloff,tcal,mode=0, fedge=10, nedge=None):\n",
    "    \"\"\"\n",
    "    following the GBTIDL routine with same name, get the tsys from \n",
    "    the neighboring calon and caloff we define an extra way to set \n",
    "    the edge size, nedge, if you prefer to use number of edge channels\n",
    "    instead of the inverse fraction\n",
    "    \n",
    "    mode=0     do the mean before the division\n",
    "    mode=1     do the mean after the division\n",
    "    \"\"\"\n",
    "    nchan = len(calon)\n",
    "    if nedge == None:\n",
    "        nedge = nchan // fedge     # 10 %\n",
    "    if mode == 0:\n",
    "        meanoff = np.mean(caloff[nedge:-nedge])\n",
    "        meandiff = np.mean(calon[nedge:-nedge] - caloff[nedge:-nedge])\n",
    "        meanTsys = ( meanoff / meandiff * tcal + tcal/2.0 )\n",
    "    else:\n",
    "        meanTsys = np.mean( caloff[nedge:-nedge] / (calon[nedge:-nedge] - caloff[nedge:-nedge]) )\n",
    "        meanTsys = meanTsys * tcal + tcal/2.0\n",
    "    return meanTsys"
   ]
  },
  {
   "cell_type": "code",
   "execution_count": null,
   "metadata": {},
   "outputs": [],
   "source": [
    "def my_worker1(data,tcal, mode=0):\n",
    "    \"\"\" \n",
    "    an example of a tsys calculator (not used in this way, see dcmeantsys)\n",
    "    mode=0      the calon is first\n",
    "    mode=1      the caloff is first\n",
    "    \"\"\"\n",
    "    (nrow,nchan) = data.shape\n",
    "    print(data.shape, tcal.shape)\n",
    "    nrow2 = nrow//2\n",
    "    data2 = np.zeros(nrow2*nchan).reshape(nrow2, nchan)\n",
    "    if mode==0:\n",
    "        ion = 0\n",
    "        ioff = 1\n",
    "    else:\n",
    "        ion = 1\n",
    "        ioff = 0\n",
    "    for row in range(0,nrow,2):\n",
    "        calon  = data[row + ion]  \n",
    "        caloff = data[row + ioff]\n",
    "        data2[row//2] = tcal[row]*caloff/(calon-caloff) + tcal[row]/2.0\n",
    "    return data2\n",
    "\n",
    "# spectra2 = my_worker1(spectra, tcal)"
   ]
  },
  {
   "cell_type": "code",
   "execution_count": null,
   "metadata": {},
   "outputs": [],
   "source": [
    "def my_worker2(data,tcal,nint=11,nscan=4,mode=0):\n",
    "    \"\"\" \n",
    "    an example of a PS style sequence of on/off:\n",
    "    it takes 4 phases to create an integration\n",
    "    The nint=11 should NOT be changed, this is for example1\n",
    "    The nscan=4 can be changed to 2 and 1 if you want to test \n",
    "    fewer data scans\n",
    "    Data dimension:  DATA(cal=2, int=11, pol=2, proc=2, scan=4)\n",
    "    for NGC5291\n",
    "    \n",
    "    mode : experimenting trying to understand GBTIDL\n",
    "           mode=0    Teuben method (seemed more logical to me)\n",
    "           mode=1    Braatz method (as GBTIDL used)\n",
    "    \"\"\"\n",
    "    (nrow,nchan) = data.shape\n",
    "    # reduction by 4:     2 from calon/caloff    2 from procseqn ON/OFF\n",
    "    nrow4 = nrow * nscan // 4 // 4\n",
    "    data4 = np.zeros(nrow4*nchan).reshape(nrow4, nchan)\n",
    "    tsys4 = np.zeros(nrow4)\n",
    "    i=0\n",
    "    for iscan in range(nscan):\n",
    "        for iint in range(nint*2):\n",
    "            i1 = iscan*nint*2*2*2 + iint*2   # sig_calon    \"ON\"\n",
    "            i2 = i1 + 1                      # sig_caloff\n",
    "            i3 = i1 + 2*nint*2               # ref_calon    \"OFF\"\n",
    "            i4 = i3 + 1                      # ref_caloff\n",
    "            t1 = data[i1]\n",
    "            t2 = data[i2]\n",
    "            tsys1 = dcmeantsys(t1,t2,tcal[i1])\n",
    "            t3 = data[i3]\n",
    "            t4 = data[i4]\n",
    "            tsys2 = dcmeantsys(t3,t4,tcal[i3])\n",
    "            #print(i,i1,i3,tsys1,tsys2)\n",
    "            #    review this math, i'm not getting the exact GBTIDL numbers out\n",
    "            tsys = tsys2\n",
    "            ta = tsys * (t1-t3)/t3\n",
    "            tb = tsys * (t2-t4)/t4\n",
    "            t5 = 0.5*(t1+t2)        # sig, this is the Braatz2009 method\n",
    "            t6 = 0.5*(t3+t4)        # ref\n",
    "            if mode==0:\n",
    "                data4[i] = 0.5*(ta+tb)\n",
    "            elif mode==1:\n",
    "                data4[i] = tsys*(t5-t6)/t6\n",
    "            else:\n",
    "                data4[i] = 0.0 * ta\n",
    "            tsys4[i] = tsys\n",
    "            i=i+1\n",
    "    return (data4,tsys4)\n",
    "\n",
    "#spectra4 = my_worker2(spectra,tcal)"
   ]
  },
  {
   "cell_type": "code",
   "execution_count": null,
   "metadata": {},
   "outputs": [],
   "source": []
  },
  {
   "cell_type": "code",
   "execution_count": null,
   "metadata": {},
   "outputs": [],
   "source": [
    "def my_worker3(data,tcal,nint=41,nscan=3,mode=0):\n",
    "    \"\"\" \n",
    "    an example of a GETSIGREF style sequence of on/off\n",
    "    as used in EDGE total power observations\n",
    "    \n",
    "    The nint=41 should NOT be changed, this is for NGC2347\n",
    "    The nscan=9 can be changed to any multiple of 3 if you\n",
    "    want to test speed\n",
    "    \"\"\"\n",
    "    (nrow,nchan) = data.shape\n",
    "    #print(nrow,nchan)\n",
    "    \n",
    "    tsys = np.zeros(nrow // 2)\n",
    "    for i in range(0,nrow,2):\n",
    "        tsys[i//2]=dcmeantsys(data[i+1],data[i],tcal[i])   \n",
    "    #print(tsys)   \n",
    "    nrow3 = nrow * nscan // 3 // 3\n",
    "    data3 = np.zeros(nrow3*nchan).reshape(nrow3, nchan)\n",
    "    i=0\n",
    "    ibad = 0\n",
    "    for iscan in range(nscan):\n",
    "        iscanref = iscan % 3 - 1             # 0 means on REF, -1 or 1 is on SIG\n",
    "        if iscanref == 0: \n",
    "            continue\n",
    "        for iint in range(nint*2):           # each int has XX and YY\n",
    "            i2 = iscan*nint*4 + iint*2       # caloff    \"ON\"\n",
    "            i1 = i2 + 1                      # calon\n",
    "            i4 = i2 - iscanref*4*nint        # caloff    \"OFF\"\n",
    "            i3 = i4 + 1                      # calon\n",
    "            #print(iint,i1,i2,i3,i4)\n",
    "            t1 = data[i1] # calON\n",
    "            t2 = data[i2] # calOFF\n",
    "            tsys1 = tsys[i1//2]\n",
    "            t3 = data[i3]\n",
    "            t4 = data[i4]\n",
    "            tsys2 = tsys[i3//2]\n",
    "            #print(i,i1,i2,i3,i4,tsys1,tsys2)\n",
    "            #    using the tsys from the \"OFF\"\n",
    "            ta = tsys2 * (t1-t3)/t3\n",
    "            tb = tsys2 * (t2-t4)/t4\n",
    "            data3[i] = 0.5*(ta+tb)\n",
    "            sum = data3[i].sum()\n",
    "            #print(i,sum)\n",
    "            if np.isnan(sum):\n",
    "                ibad = ibad + 1\n",
    "                # print(i,sum)\n",
    "            else:\n",
    "                i = i + 1\n",
    "    if ibad > 0:\n",
    "        print(\"Warning, removed %d bad integrations\" % ibad)\n",
    "    print(data3.shape)\n",
    "    data3r = data3[:i]\n",
    "    print(data3r.shape)\n",
    "    return data3[:i]\n",
    "\n",
    "#spectra3 = my_worker3(spectra,tcal)"
   ]
  },
  {
   "cell_type": "code",
   "execution_count": null,
   "metadata": {},
   "outputs": [],
   "source": [
    "def my_loader1(fname, src=None, stats=False):\n",
    "    \"\"\"\n",
    "    sample SDFITS loader, for benchmark\n",
    "    \n",
    "    fname      File Name\n",
    "    src        Source name (all if not given)\n",
    "    \"\"\"\n",
    "    hdu     = fits.open(fname)\n",
    "    header2 = hdu[1].header\n",
    "    data2   = hdu[1].data\n",
    "    if src != None:\n",
    "        wh = data2[:]['OBJECT'] == src\n",
    "        data2 = data2[wh]\n",
    "    gbt = {}\n",
    "    gbt['spectra'] = data2[:]['DATA']\n",
    "    gbt['tcal']    = data2[:]['TCAL'] \n",
    "    gbt['sampler'] = data2[:]['SAMPLER']\n",
    "    gbt['cal']     = data2[:]['CAL']\n",
    "    if stats:\n",
    "        my_stats(fname,gbt['spectra'])\n",
    "    return gbt"
   ]
  },
  {
   "cell_type": "code",
   "execution_count": null,
   "metadata": {},
   "outputs": [],
   "source": [
    "\n",
    "\n"
   ]
  },
  {
   "cell_type": "code",
   "execution_count": null,
   "metadata": {},
   "outputs": [],
   "source": [
    "def my_plot(sp, kms=False):\n",
    "    \"\"\" plot a Spectrum1D \n",
    "    \"\"\"\n",
    "    if kms:\n",
    "        print(\"Velocity\")\n",
    "        x = sp.velocity   # doesn't work\n",
    "    else:\n",
    "        print(\"Frequency\")\n",
    "        x = sp.spectral_axis / (1 * Unit(\"Hz\"))/1e6\n",
    "    if False:\n",
    "        plt.plot(x, sp.flux)\n",
    "        if kms:\n",
    "            plt.xlabel('km/s')\n",
    "        else:\n",
    "            plt.xlabel('Frequency [MHz]')\n",
    "        plt.ylabel('Flux [%s]' % sp.flux.unit)\n",
    "    else:\n",
    "        f, ax = plt.subplots()  # doctest: +IGNORE_OUTPUT\n",
    "        ax.step(sp.spectral_axis, sp.flux) "
   ]
  },
  {
   "cell_type": "markdown",
   "metadata": {},
   "source": [
    "## Input parameters\n",
    "\n",
    "define the SDFITS file name and which row (0 being the first) we want to plot the spectrum of"
   ]
  },
  {
   "cell_type": "code",
   "execution_count": null,
   "metadata": {},
   "outputs": [],
   "source": [
    "#    Manual Labor:   pick the source you want, depending on the pick, the notebook will not work\n",
    "sdfits = { 'file' : 'ngc5291.fits',                     'src' : 'NGC5291'  }\n",
    "#sdfits = { 'file' : '3C286.fits',                       'src' : '3C286'    }\n",
    "#sdfits = { 'file' : 'IC1481.fits',                      'src' : 'IC1481'   }\n",
    "#sdfits = { 'file' : 'AGBT15B_287_35.raw.vegas.A.fits',  'src' : 'NGC2347'  }  # 9 scans\n",
    "#sdfits = { 'file' : 'AGBT15B_287_39.raw.vegas.A.fits',  'src' : 'NGC2347'  }  # 3 scans\n",
    "#sdfits = { 'file' : 'AGBT17B_151_01.raw.vegas.A.fits',  'src' : 'IC0342'   }\n",
    "\n",
    "row = 0\n",
    "\n",
    "fname = sdfits['file']\n",
    "src   = sdfits['src']"
   ]
  },
  {
   "cell_type": "markdown",
   "metadata": {},
   "source": [
    "### Sidetrack on performance"
   ]
  },
  {
   "cell_type": "code",
   "execution_count": null,
   "metadata": {},
   "outputs": [],
   "source": [
    "%%time\n",
    "#  800ms without source name\n",
    "#  7s with source name\n",
    "#  14s with stats\n",
    "if False:\n",
    "    src = None\n",
    "    src = 'NGC2347'\n",
    "    stats = True\n",
    "    g0 = my_loader1('AGBT15B_287_35.raw.vegas.A.fits',src,stats)\n",
    "    g1 = my_loader1('AGBT15B_287_35.raw.vegas.B.fits',src,stats)\n",
    "    g2 = my_loader1('AGBT15B_287_35.raw.vegas.C.fits',src,stats)\n",
    "    g3 = my_loader1('AGBT15B_287_39.raw.vegas.A.fits',src,stats)\n",
    "    g4 = my_loader1('AGBT15B_287_39.raw.vegas.B.fits',src,stats)\n",
    "    g5 = my_loader1('AGBT15B_287_39.raw.vegas.C.fits',src,stats)\n",
    "\n"
   ]
  },
  {
   "cell_type": "markdown",
   "metadata": {},
   "source": [
    "Open the FITS file and point to the 2nd HDU, where the BINTABLE is located. No error checking. Data isn't really read yet"
   ]
  },
  {
   "cell_type": "code",
   "execution_count": null,
   "metadata": {},
   "outputs": [],
   "source": [
    "%%time\n",
    "# 20ms: for ex1  fast because data is not really put in memory yet\n",
    "# 40ms for EDGE\n",
    "nrow=0\n",
    "hdu = fits.open(fname)\n",
    "header2 = hdu[1].header\n",
    "data2   = hdu[1].data\n",
    "nrow = len(data2)\n",
    "print(\"Found %d rows in %s\" % (nrow,fname))\n"
   ]
  },
  {
   "cell_type": "markdown",
   "metadata": {},
   "source": [
    "Lets stat all the numbers (nrow * nchan)"
   ]
  },
  {
   "cell_type": "code",
   "execution_count": null,
   "metadata": {},
   "outputs": [],
   "source": [
    "%%time\n",
    "# 790ms for ex1\n",
    "my_stats(fname,data2[:]['DATA'])"
   ]
  },
  {
   "cell_type": "markdown",
   "metadata": {},
   "source": [
    "Grab spectrum by row number. Get some statistics for that row."
   ]
  },
  {
   "cell_type": "code",
   "execution_count": null,
   "metadata": {},
   "outputs": [],
   "source": [
    "%%time \n",
    "#  3ms\n",
    "flux  = data2[row]['DATA']  \n",
    "nchan = len(flux)\n",
    "chans = np.arange(nchan)\n",
    "print(\"Found %d channels\" % nchan)\n",
    "#\n",
    "my_stats('STATS for row %d:' % row,flux)"
   ]
  },
  {
   "cell_type": "markdown",
   "metadata": {},
   "source": [
    "A super simple plot, channel number vs. flux."
   ]
  },
  {
   "cell_type": "code",
   "execution_count": null,
   "metadata": {
    "scrolled": true
   },
   "outputs": [],
   "source": [
    "plt.plot(chans,flux)\n",
    "plt.xlabel(\"Channel\")\n",
    "plt.ylabel(\"Flux\");\n",
    "plt.title(\"Raw Spectrum - row %d\" % row);"
   ]
  },
  {
   "cell_type": "markdown",
   "metadata": {},
   "source": [
    "This is a raw spectrum, mostly showing sky and bandpass.Hidden is a tiny signal, not even visible in the plot, somewhere in the middle around channel 16,000. For this we need to collect an \"On\" and \"Off\" spectrum and normalize this difference. And some more magic math. The spike near channel 3000 is galactic. \n",
    "\n",
    "This galactic emission is so strong that we can even see it in the raw spectrum. Since it is also extended, an ON/OFF position switching will not properly reconstruct the galactic HI emission. Plotting the ON and OFF from the raw spectra clearly shows this. Cute, but this is not what this notebook is about."
   ]
  },
  {
   "cell_type": "code",
   "execution_count": null,
   "metadata": {},
   "outputs": [],
   "source": [
    "flux_on = data2[0]['DATA'] \n",
    "flux_off = data2[44]['DATA']\n",
    "plt.plot(chans,flux_on,label='ON')\n",
    "plt.plot(chans,flux_off,label='OFF')\n",
    "plt.xlim(2800,3100)\n",
    "plt.ylim(1.5,2.8)\n",
    "plt.legend();"
   ]
  },
  {
   "cell_type": "markdown",
   "metadata": {},
   "source": [
    "### Columns and Rows in the BINTABLE\n",
    "\n",
    "Apart from the 'DATA' column (which is the spectrum), there are lots of meta-data that we will eventually need. Most of these are scalars, so they can be retrieved as vectors of length **nrow**, e.g. the TCAL variable that is crucial for calibration."
   ]
  },
  {
   "cell_type": "code",
   "execution_count": null,
   "metadata": {},
   "outputs": [],
   "source": [
    "%%time \n",
    "# 17ms\n",
    "tcal  = data2[:]['TCAL']  \n",
    "rec   = np.arange(len(tcal))\n",
    "print(\"TCAL mean/rms/min/max/ndata:\")\n",
    "my_stats('TCAL',tcal)"
   ]
  },
  {
   "cell_type": "code",
   "execution_count": null,
   "metadata": {},
   "outputs": [],
   "source": [
    "plt.plot(rec,tcal)\n",
    "plt.xlabel(\"record\")\n",
    "plt.ylabel(\"TCAL\")\n",
    "plt.title(\"TCAL is bimodal (XX and YY)\")"
   ]
  },
  {
   "cell_type": "markdown",
   "metadata": {},
   "source": [
    "Now a simple worker that performs an ON/OFF type operation on all rows. No data is returned, we just want to measure the speed. It will need the **tcal** column from the previous cell. This is not how this data is calibrated, just providing a simple benchmark of the compute speed.\n",
    "\n",
    "First retrieve a convenient numpy array **spectra[nrow,nchans]** that are the spectra (cf.waterfall plot)"
   ]
  },
  {
   "cell_type": "code",
   "execution_count": null,
   "metadata": {},
   "outputs": [],
   "source": [
    "%%time\n",
    "# 15 ms\n",
    "spectra = data2[:]['DATA']\n",
    "print(spectra.shape)"
   ]
  },
  {
   "cell_type": "code",
   "execution_count": null,
   "metadata": {},
   "outputs": [],
   "source": [
    "%%time \n",
    "whobj = data2[:]['OBJECT'] == src\n",
    "print('Found %d for %s' % (whobj.sum(),src))\n",
    "\n",
    "spectra = spectra[whobj]\n",
    "tcal = data2[whobj]['TCAL']"
   ]
  },
  {
   "cell_type": "markdown",
   "metadata": {},
   "source": [
    "Show a waterfall plot for a select number of channels. The N5291 data has 32k channels, and would not look very interesting here. We show that galactic feature here."
   ]
  },
  {
   "cell_type": "code",
   "execution_count": null,
   "metadata": {},
   "outputs": [],
   "source": [
    "plt.imshow(spectra[:,2500:3300],origin='bottom')\n",
    "plt.title(\"section of the waterfall plot around galactic emission\");"
   ]
  },
  {
   "cell_type": "code",
   "execution_count": null,
   "metadata": {},
   "outputs": [],
   "source": [
    "%%time\n",
    "#   0.004 empty call\n",
    "#   185 ms just computing\n",
    "#   214 ms stuffing it into an array (and returning it)\n",
    "#   765 ms for EDGE\n",
    "spectra2 = my_worker1(spectra, tcal)"
   ]
  },
  {
   "cell_type": "code",
   "execution_count": null,
   "metadata": {},
   "outputs": [],
   "source": [
    "plt.plot(chans,spectra2[row]);\n",
    "plt.title(\"Worker1 plot\");"
   ]
  },
  {
   "cell_type": "markdown",
   "metadata": {},
   "source": [
    "###  An example of the ON/OFF calibration\n",
    "\n",
    "The standard way to calibrate SD data is the ON/OFF style, where you compare two signals ON and OFF the source. This can be in a number of ways though, not just by pointing ON and OFF the source.\n",
    "$$\n",
    "     T_A = T_{sys} { {ON-OFF} \\over {OFF} }\n",
    "$$\n",
    "\n",
    "from GBTIDL's dcmeantsys.pro we can see how the $T_{sys}$ is determined\n",
    "\n",
    "    ;  mean_tsys = tcal * mean(nocal) / (mean(withcal-nocal)) + tcal/2.0\n",
    "    \n",
    "or\n",
    "$$   \n",
    "        T_{sys} = T_{cal}  { { <calOFF>} \\over {<calON-calOFF>} } + T_{cal}/2\n",
    "$$\n",
    "but it is also not uncommon that $T_{sys}$ is specified by the user manually.\n",
    "\n",
    "First, let's see how/where the data does the ON/OFF by looking at the pointing (RA,DEC) in this example:"
   ]
  },
  {
   "cell_type": "code",
   "execution_count": null,
   "metadata": {},
   "outputs": [],
   "source": [
    "ra = data2[:]['CRVAL2']  \n",
    "dec = data2[:]['CRVAL3']\n",
    "rec = range(len(ra))\n",
    "plt.subplot(2,1,1)\n",
    "plt.plot(rec,dec)\n",
    "plt.ylabel('DEC')\n",
    "plt.subplot(2,1,2)\n",
    "plt.plot(rec,ra)\n",
    "plt.ylabel(\"RA\");\n",
    "plt.xlabel(\"row\")\n",
    "my_stats('ra',ra)\n",
    "my_stats('dec',dec)\n",
    "print('Sources: ',np.unique(data2[:]['OBJECT']))\n",
    "print(fname)"
   ]
  },
  {
   "cell_type": "markdown",
   "metadata": {},
   "source": [
    "Hence it is nodding in DEC only. Plus a handfull of deviations in RA, but small (~5\", for a 450\" beam)"
   ]
  },
  {
   "cell_type": "code",
   "execution_count": null,
   "metadata": {},
   "outputs": [],
   "source": [
    "tcal1  = tcal[0]    # the first tcal in PROCSEQN=1, the \"ON\" position\n",
    "tcal2  = tcal[44]   # and in 2, the \"OFF\" position\n",
    "print(tcal1,tcal2)  # they are the same, these are both XX\n",
    "print(tcal[22])     # for the YY they are slightly different"
   ]
  },
  {
   "cell_type": "markdown",
   "metadata": {},
   "source": [
    "## We are now going to reproduce the first spectrum. \n",
    "\n",
    "By the book.   In GBTIDL we use the **getps** command. The **list** command already told us that the XX polarization was the first few rows, but not until some experimentation did we find out that SAMPLER='A9' was the XX, and 'A13' the YY polarization,and these can also be found using plnum=1 and 0 resp. Perhaps a bit counter-intuitive.  The two **getps** commands in the example below are thus equivalent.\n",
    "\n",
    "     filein, 'ngc5291.fits'\n",
    "     getps, 51, intnum=0, sampler='A9', /eqweight\n",
    "     getps, 51, plnum=1, intnum=0, /eqweight\n",
    "     ; -> Tsys:  19.30    20.08\n",
    "     chan\n",
    "     stats,6000,12000\n",
    "     ; -> 0.31242     0.14542 -0.28983     0.88213\n",
    "     write_ascii,'n5291_XX0.tab'\n",
    "     \n",
    "The documentation for **getps** does explain that Tsys=19.30 corresponds to the \"OFF\" and 20.07 to the \"ON\" position, despite that the \"ON\" (PROCSEQN=1) comes before the \"OFF\" (PROCSEQN=2). In fact, PROCSEQN is not listed in the output from **list**. It also mentioned only the \"OFF\" value of Tsys is used.\n",
    "\n",
    "     GBTIDL -> list,0,3\n",
    "     #INDEX       SOURCE       SCAN PROCEDURE POL IFNUM FDNUM        INT SIG CAL\n",
    "      0          NGC5291         51     OnOff  XX     0     0          0   T   T\n",
    "      1          NGC5291         51     OnOff  XX     0     0          0   T   F\n",
    "      2          NGC5291         51     OnOff  XX     0     0          1   T   T\n",
    "      3          NGC5291         51     OnOff  XX     0     0          1   T   F\n",
    "     GBTIDL -> list,22,25\n",
    "     #INDEX       SOURCE       SCAN PROCEDURE POL IFNUM FDNUM        INT SIG CAL\n",
    "     22          NGC5291         51     OnOff  YY     0     0          0   T   T\n",
    "     23          NGC5291         51     OnOff  YY     0     0          0   T   F\n",
    "     24          NGC5291         51     OnOff  YY     0     0          1   T   T\n",
    "     25          NGC5291         51     OnOff  YY     0     0          1   T   F\n",
    "     GBTIDL -> list,44,47\n",
    "     #INDEX       SOURCE       SCAN PROCEDURE POL IFNUM FDNUM        INT SIG CAL\n",
    "     44          NGC5291         52     OnOff  XX     0     0          0   T   T\n",
    "     45          NGC5291         52     OnOff  XX     0     0          0   T   F\n",
    "     46          NGC5291         52     OnOff  XX     0     0          1   T   T\n",
    "     47          NGC5291         52     OnOff  XX     0     0          1   T   F\n",
    "  \n",
    "but in the output of the **summary** command the PROCSEQN is listed in the Seq column\n",
    "     \n",
    "     Scan         Source      Vel    Proc Seq    RestF nIF nInt nFd     Az    El\n",
    "     -------------------------------------------------------------------------------\n",
    "     51          NGC5291   4386.0   OnOff   1    1.420   1   11   1  198.2  18.8\n",
    "     52          NGC5291   4386.0   OnOff   2    1.420   1   11   1  198.7  18.9\n",
    "     53          NGC5291   4386.0   OnOff   1    1.420   1   11   1  199.1  18.5\n",
    "     54          NGC5291   4386.0   OnOff   2    1.420   1   11   1  199.7  18.6\n",
    "     55          NGC5291   4386.0   OnOff   1    1.420   1   11   1  200.1  18.2\n",
    "     56          NGC5291   4386.0   OnOff   2    1.420   1   11   1  200.7  18.3\n",
    "     57          NGC5291   4386.0   OnOff   1    1.420   1   11   1  202.1  17.5\n",
    "     58          NGC5291   4386.0   OnOff   2    1.420   1   11   1  202.7  17.6"
   ]
  },
  {
   "cell_type": "code",
   "execution_count": null,
   "metadata": {},
   "outputs": [],
   "source": [
    "ton1  = spectra[0]\n",
    "toff1 = spectra[1]\n",
    "tcal1 = tcal[0] \n",
    "plt.plot(chans,ton1,label='calon')\n",
    "plt.plot(chans,toff1,label='caloff')\n",
    "plt.legend()\n",
    "plt.title(\"Raw spectra row 0,1\");"
   ]
  },
  {
   "cell_type": "code",
   "execution_count": null,
   "metadata": {},
   "outputs": [],
   "source": [
    "plt.plot(chans,(ton1-toff1)/toff1)"
   ]
  },
  {
   "cell_type": "code",
   "execution_count": null,
   "metadata": {
    "scrolled": true
   },
   "outputs": [],
   "source": [
    "tsys1v = tcal1 * toff1 / (ton1 - toff1) + tcal1/2.0\n",
    "plt.plot(chans,tsys1v)\n",
    "plt.title(\"Tsys per channel\")\n",
    "my_stats('tsys1',tsys1v[6000:12000])"
   ]
  },
  {
   "cell_type": "markdown",
   "metadata": {},
   "source": [
    "Using **tsys** as a spectrum will not work. Too noisy. In fact, in GBTIDL there is a special averaging style that computes the mean **tsys** by discarding 10% of the edges and taking the ratio of the mean of those. See the **dcmeantsys** function.\n"
   ]
  },
  {
   "cell_type": "code",
   "execution_count": null,
   "metadata": {},
   "outputs": [],
   "source": [
    "tsys1 = dcmeantsys(ton1,toff1,tcal1,mode=0)        # mode=0 does the mean before the division\n",
    "tsys1m = tsys1v * 0.0 + tsys1\n",
    "print(\"tsys from ON:\",tsys1)\n",
    "print(\"mode=0,1 should give 20.08 and 20.61\")\n",
    "plt.plot(chans,tsys1v,'b.')\n",
    "plt.plot(chans,tsys1m,'r')\n",
    "plt.title(\"Tsys per channel compared to dcmeantsys; GBTIDL gets 20.08\");"
   ]
  },
  {
   "cell_type": "markdown",
   "metadata": {},
   "source": [
    "This begs the question, what is the difference between taking the mean before or after the division. The difference is not large, see mode=0 and mode=1 above.\n",
    "\n",
    "Look at the figure below, where we overplot the scaled difference on the raw spectrum: they follow each other nicely, which is comforting. Also recall, 10% is taken off the edges (which in this case does mean the galactic \n",
    "emission is *just* excluded from the averaging."
   ]
  },
  {
   "cell_type": "code",
   "execution_count": null,
   "metadata": {},
   "outputs": [],
   "source": [
    "a=tsys1/tcal1\n",
    "plt.plot(chans,(ton1-toff1)*a,'b.')\n",
    "plt.plot(chans,toff1,'r')\n",
    "#plt.xlim(2000,4000)\n",
    "plt.title(\"dividing means, or mean of the division?\");"
   ]
  },
  {
   "cell_type": "markdown",
   "metadata": {},
   "source": [
    "The **dcmeantsys** procedure takes the mean "
   ]
  },
  {
   "cell_type": "markdown",
   "metadata": {},
   "source": [
    "now we repeat this for PROCSEQ=2, so records 44 and 45 for the calon/caloff "
   ]
  },
  {
   "cell_type": "code",
   "execution_count": null,
   "metadata": {},
   "outputs": [],
   "source": [
    "ton2  = spectra[44]\n",
    "toff2 = spectra[45]\n",
    "tcal2 = tcal[44]\n",
    "plt.plot(chans,ton2)\n",
    "plt.plot(chans,toff2)\n",
    "#\n",
    "tsys2 = dcmeantsys(ton2,toff2,tcal2)\n",
    "print(\"TSYS from OFF:\",tsys2)\n",
    "print(\"This is normally the TSYS we use for calibration\")"
   ]
  },
  {
   "cell_type": "markdown",
   "metadata": {},
   "source": [
    "These values for **tsys** agree exactly with those that GBTIDL gets!"
   ]
  },
  {
   "cell_type": "code",
   "execution_count": null,
   "metadata": {},
   "outputs": [],
   "source": [
    "tsys2v = tcal2 * toff2 / (ton2 - toff2) + tcal2/2.0\n",
    "tsys2  = dcmeantsys(ton2,toff2,tcal2,mode=0)        # mode=0 does the mean before the division\n",
    "tsys2m = tsys2v * 0.0 + tsys2\n",
    "print(\"tsys from ON:\",tsys2)\n",
    "print(\"mode=0,1 should give 19.30 and 19.75 resp.\")\n",
    "plt.plot(chans,tsys2v,'b.')\n",
    "plt.plot(chans,tsys2m,'r')\n",
    "plt.title(\"Tsys per channel compared to dcmeantsys.  GBTIDL gets 19.30\");"
   ]
  },
  {
   "cell_type": "code",
   "execution_count": null,
   "metadata": {
    "scrolled": false
   },
   "outputs": [],
   "source": [
    "tsys = tsys2                 # the \"OFF\" tsys is used according to getps\n",
    "print(tsys,tsys1,tsys2)\n",
    "if False:\n",
    "    # this is the math following eq.(2) on p5 of Braatz' 2009 calibration manual\n",
    "    sig_calon = ton1\n",
    "    sig_caloff = toff1\n",
    "    ref_calon = ton2\n",
    "    ref_caloff = toff2\n",
    "    sig = 0.5*(sig_calon+sig_caloff)\n",
    "    ref = 0.5*(ref_calon+ref_caloff)\n",
    "    ta  = tsys * (sig-ref)/ref\n",
    "else:\n",
    "    # this was my assumed math, it matches GBTIDL not as well\n",
    "    # but if you write out the math, this formula should be better\n",
    "    ta1 = tsys * (toff1-toff2)/toff2  # \n",
    "    ta2 = tsys * (ton1-ton2)/ton2\n",
    "    ta  = 0.5*(ta1+ta2)              # we used the /eqweight option in getps\n",
    "    my_stats('ta1',ta1[6000:12001])\n",
    "    my_stats('ta2',ta2[6000:12001])\n",
    "plt.plot(chans,ta)\n",
    "my_stats('ta    ',ta[6000:12001])\n",
    "print(\"GBTIDL: 0.31242    0.14542    -0.28983    0.88213\")"
   ]
  },
  {
   "cell_type": "markdown",
   "metadata": {},
   "source": [
    "Possibly weighting differences? Even though we did use the **/eqweight** option."
   ]
  },
  {
   "cell_type": "code",
   "execution_count": null,
   "metadata": {},
   "outputs": [],
   "source": [
    "#  save the spectrum for perhaps other work\n",
    "from astropy.io import ascii\n",
    "ascii.write([chans, ta], 'ngc5291_xx0.dat', names=['channel', 'Ta'], overwrite=True)"
   ]
  },
  {
   "cell_type": "markdown",
   "metadata": {},
   "source": [
    "With some squinting, perhaps you can see the signal around channel 16000 ?  So lets do a big BoxCar smoothing and overlay it with the input signal:"
   ]
  },
  {
   "cell_type": "code",
   "execution_count": null,
   "metadata": {},
   "outputs": [],
   "source": [
    "tabox = convolve(ta, Box1DKernel(51))\n",
    "plt.plot(chans,ta,'b.')\n",
    "plt.plot(chans,tabox,'r')\n",
    "plt.title('First XX spectrum, plus a boxcar51');"
   ]
  },
  {
   "cell_type": "markdown",
   "metadata": {},
   "source": [
    "One final thing remains: a more detailed comparison between IDL and this TOY work.The file **n5291_XX0.tab** contains the spectrum we obtained with **getps**, the first XX spectrum. Here we compare this with our toy version. Although we got the TSYS exactly, the individual data "
   ]
  },
  {
   "cell_type": "code",
   "execution_count": null,
   "metadata": {},
   "outputs": [],
   "source": [
    "idltab = ascii.read('n5291_XX0.tab')\n",
    "tidl=idltab['col2']\n",
    "if False:\n",
    "    tidlbox = convolve(tidl, Box1DKernel(51))\n",
    "    print(len(tidl))\n",
    "    plt.plot(chans,tidl,'b.')\n",
    "    plt.plot(chans,idlbox,'r')"
   ]
  },
  {
   "cell_type": "code",
   "execution_count": null,
   "metadata": {
    "scrolled": true
   },
   "outputs": [],
   "source": [
    "delta = tidl - ta\n",
    "plt.plot(chans,delta)\n",
    "my_stats('delta',delta)\n",
    "# print(tidl)"
   ]
  },
  {
   "cell_type": "code",
   "execution_count": null,
   "metadata": {},
   "outputs": [],
   "source": [
    "b=5000\n",
    "e=b+200\n",
    "plt.plot(chans[b:e],delta[b:e]);"
   ]
  },
  {
   "cell_type": "markdown",
   "metadata": {},
   "source": [
    "Now repeat this for all spectra via the specially handcrafted worker2 function. After 88 spectra have been returned, we're going to average them."
   ]
  },
  {
   "cell_type": "code",
   "execution_count": null,
   "metadata": {
    "scrolled": true
   },
   "outputs": [],
   "source": [
    "%%time\n",
    "if src == 'NGC5291':\n",
    "    (spectra4,tsys4) = my_worker2(spectra,tcal,nscan=4,mode=1)\n",
    "    print(\"Found %d spectra4\" % len(spectra4))\n",
    "\n",
    "    ave = np.average(spectra4,axis=0)\n",
    "\n",
    "    plt.plot(chans,ave)\n",
    "    plt.xlim(14500,18500)\n",
    "    plt.ylim(0.20,0.55)\n",
    "    my_stats('ave',ave[6000:12001])\n",
    "    my_stats('ngc',ave[15000:17500])"
   ]
  },
  {
   "cell_type": "markdown",
   "metadata": {},
   "source": [
    "For NGC5291 we are supposed to get from stats:\n",
    "    \n",
    "    stats,6000,12000\n",
    "     ; -> 0.29487  0.015592  0.24204   0.35086\n",
    "     #    0.29889  0.015719  0.24665   0.35532  (old)\n",
    "     #    0.29791  0.015734  0.24517   0.35472  (new)\n",
    "        \n",
    "so, not quite there yet. It is possibly that minute variations in EXPOSURE cause this?\n",
    "\n",
    "\n",
    "\n",
    "\n",
    "For each spectrum we're going to compute the mean and rms in the line free region (6000:12000) and we'll notice that the RMS is fairly constant, but the XX and YY means are a little different. The histogram below also shows this clearly."
   ]
  },
  {
   "cell_type": "code",
   "execution_count": null,
   "metadata": {},
   "outputs": [],
   "source": [
    "row4 = list(range(len(spectra4)))\n",
    "m4 = np.zeros(len(spectra4))\n",
    "r4 = np.zeros(len(spectra4))\n",
    "dn4 = np.zeros(len(spectra4))\n",
    "dx4 = np.zeros(len(spectra4))\n",
    "for i in range(len(spectra4)):\n",
    "    (m4[i],r4[i],dn4[i],dx4[i],n4) = my_stats(\"%d\" % i, spectra4[i][6000:12001],verbose=False)\n",
    "plt.subplot(212)\n",
    "plt.plot(row4,r4)\n",
    "plt.ylabel(\"RMS\")\n",
    "plt.subplot(211)\n",
    "plt.plot(row4,m4)\n",
    "plt.ylabel(\"MEAN\")\n",
    "plt.title('MEAN and RMS for all spectra')\n",
    "print(\"Mean and RMS of the RMS value:\",r4.mean(),r4.std())\n",
    "print(\"Min and Max in the MEAN value:\",m4.min(),m4.max())"
   ]
  },
  {
   "cell_type": "code",
   "execution_count": null,
   "metadata": {},
   "outputs": [],
   "source": [
    "plt.hist(m4,20)\n",
    "plt.title(\"Histogram of mean values\");"
   ]
  },
  {
   "cell_type": "code",
   "execution_count": null,
   "metadata": {},
   "outputs": [],
   "source": [
    "if src == 'NGC5291':\n",
    "    # plot tsys as function of time\n",
    "    row4 = list(range(len(tsys4)))\n",
    "    plt.plot(row4,tsys4)\n",
    "    #plt.plot(row4[1:176:2],tsys4[1:176:2])\n",
    "    plt.title(\"$T_{sys}$ as function of record (XX and YY stil interwoven)\");"
   ]
  },
  {
   "cell_type": "code",
   "execution_count": null,
   "metadata": {},
   "outputs": [],
   "source": []
  },
  {
   "cell_type": "code",
   "execution_count": null,
   "metadata": {},
   "outputs": [],
   "source": [
    "if src == 'NGC5291':\n",
    "    date_obs = data2[:]['DATE-OBS']  \n",
    "    dates = date_obs[0:352:4]\n",
    "    converted_dates = matplotlib.dates.datestr2num(dates)\n",
    "    if True:\n",
    "        formatter = matplotlib.dates.DateFormatter('%H:%M:%S')\n",
    "        fig,ax = plt.subplots()\n",
    "        ax.xaxis.set_major_formatter(formatter)\n",
    "    #plt.plot_date(converted_dates, tsys4)\n",
    "    d1 = converted_dates[0:88:2]\n",
    "    t1 = tsys4[0:88:2]\n",
    "    d2 = converted_dates[1:88:2]\n",
    "    t2 = tsys4[1:88:2]\n",
    "    plt.plot_date(d1,t1,label='XX')\n",
    "    plt.plot_date(d2,t2,label='YY')\n",
    "    plt.legend()"
   ]
  },
  {
   "cell_type": "code",
   "execution_count": null,
   "metadata": {},
   "outputs": [],
   "source": [
    "ave2 = convolve(ave, Box1DKernel(51))\n",
    "plt.plot(chans,ave,'b.')\n",
    "plt.plot(chans,ave2,'r')\n",
    "plt.xlim(14500,18000)\n",
    "plt.ylim(0.20,0.60);\n",
    "my_stats('ave2',ave2[6000:12001])\n",
    "my_stats('ave2',ave2[15000:18000])\n",
    "print(\"In boxcar: S/N ~ (0.472-0.297)/0.00396=\",(0.472-0.297)/0.00396)"
   ]
  },
  {
   "cell_type": "code",
   "execution_count": null,
   "metadata": {},
   "outputs": [],
   "source": []
  },
  {
   "cell_type": "code",
   "execution_count": null,
   "metadata": {},
   "outputs": [],
   "source": [
    "print(fname)\n",
    "print(spectra.shape)"
   ]
  },
  {
   "cell_type": "code",
   "execution_count": null,
   "metadata": {
    "scrolled": true
   },
   "outputs": [],
   "source": [
    "%%time\n",
    "if src == 'NGC2347':\n",
    "    spectra3 = my_worker3(spectra,tcal,nscan=3)\n",
    "    print(\"Found %d spectra4 in %s\" % (len(spectra3),fname))\n",
    "\n",
    "    ave = np.average(spectra3,axis=0)\n",
    "    print(ave.shape)\n",
    "\n",
    "    plt.plot(chans,ave)\n",
    "    plt.xlim(7000,9000)\n",
    "    plt.ylim(0.0,0.6)\n",
    "    my_stats('ave',ave[6000:12001])"
   ]
  },
  {
   "cell_type": "markdown",
   "metadata": {},
   "source": [
    "For NGC2347 this looks OK, but the noise isn't what we get with GBTIDL.   The baselines are all varying, even between XX and YY, so with 9 scans sigma=0.031, with 6 we get 0.044 and with 3 we get 0.025 in our procedure. Clearly GBTIDL is outsmarting us again.\n"
   ]
  },
  {
   "cell_type": "markdown",
   "metadata": {},
   "source": [
    "### A few words on row organization\n",
    "\n",
    "All the magic of how calibration is done is in the organization and labeling of the rows. For the **position switching** of the NGC5271 data we will see 352 rows organized in a 5D matrix as follows:\n",
    "\n",
    "    DATA(cal,int,sampler,procseqn,scan)\n",
    "          2   11    2        2      4\n",
    "          \n",
    "with the following notes:\n",
    "\n",
    "* DATA is labeled in column-major (\"fortran\") order, i.e. the first listed dimension runs fastest\n",
    "* 2 * 11 * 2 * 2 * 4 = 352\n",
    "* each procseqn also increments the scan number, so there are really 8 scan values but only 4 in that dimension\n",
    "* each sampler is taken at the same time, so this means after 22 rows (cal * int) , time repeats in the next \n",
    "  sampler (the XX and YY pol in this case)\n",
    "* in this data samplers point to different polarizations, in argus samplers are the beams/feeds for a single XX polarization, so the SAMPLER slot in the data can be used for different means\n",
    "* for this type of PS data, the procseqn defines the ON (1) and the OFF (2) position\n",
    "* Depending on observing modes, the dimensionality of the DATA is different, e.g. for nod data at GBT we see\n",
    "         DATA(cal, int, pol, sampler, procseqn, scan)\n",
    "  "
   ]
  },
  {
   "cell_type": "markdown",
   "metadata": {},
   "source": [
    "###  Another way of more generic indexing\n",
    "\n",
    "In the section before we used the layout of the DATA array where the **sig** and **cal** were hidden. But in SDFITS there is no guarentee, in fact, the **'SIG'** was not even used in this example, it was \"hidden\" in the value of the **PROCSEQN** variable.\n",
    "\n",
    "We will now use a more generic indexing technique.\n",
    "\n",
    "So, here is first a helper routine which figures out - given the names and values of the columns that designate the **sig** and **cal**, in which rows the (sig,cal) quads are located.\n"
   ]
  },
  {
   "cell_type": "code",
   "execution_count": null,
   "metadata": {},
   "outputs": [],
   "source": [
    "def whsigcal(data, calname, calval, signame, sigval, index=True):\n",
    "    \"\"\"\n",
    "    Returns boolean arrays where the 4 sig/cal occur\n",
    "    Examples (for NGC5291)\n",
    "    w0,w1,w2,w3     = whsigcal(data2,'CAL',['T','F'],  'PROCSEQN', [1,2], False)\n",
    "    ix0,ix1,ix2,ix3 = whsigcal(data2,'CAL',['T','F'],  'SIG', ['T','F'])\n",
    "    \"\"\"\n",
    "    w0 = (data[:][calname] == calval[0])  &  (data[:][signame] == sigval[0])\n",
    "    w1 = (data[:][calname] == calval[1])  &  (data[:][signame] == sigval[0])\n",
    "    w2 = (data[:][calname] == calval[0])  &  (data[:][signame] == sigval[1])\n",
    "    w3 = (data[:][calname] == calval[1])  &  (data[:][signame] == sigval[1])\n",
    "    if index:\n",
    "        ix0 = np.where(w0)[0]  # sig_calon\n",
    "        ix1 = np.where(w1)[0]  # sig_caloff\n",
    "        ix2 = np.where(w2)[0]  # ref_calon\n",
    "        ix3 = np.where(w3)[0]  # ref_caloff\n",
    "        return (ix0,ix1,ix2,ix3)\n",
    "    else:\n",
    "        return (w0,w1,w2,w3)"
   ]
  },
  {
   "cell_type": "code",
   "execution_count": null,
   "metadata": {},
   "outputs": [],
   "source": []
  },
  {
   "cell_type": "code",
   "execution_count": null,
   "metadata": {},
   "outputs": [],
   "source": [
    "def whsigcalnod(data, calname, calval, signame, sigval, nodname, nodval, index=True):\n",
    "    \"\"\"\n",
    "    Returns boolean arrays where the 4 sig/cal occur for a given nod\n",
    "    Examples (for IC1481)\n",
    "    ix0,ix1,ix2,ix3 = whsigcalnod(data2,'CAL',['T','F'],  'PROCSEQN', [1,2], 'FEED',1)\n",
    "    ix0,ix1,ix2,ix3 = whsigcalnod(data2,'CAL',['T','F'],  'PROCSEQN', [2,1], 'FEED',2)\n",
    "    \"\"\"\n",
    "    w0 = (data[:][calname] == calval[0])  &  (data[:][signame] == sigval[0] & (data[:][nodname] == nodval)\n",
    "    w1 = (data[:][calname] == calval[1])  &  (data[:][signame] == sigval[0] & (data[:][nodname] == nodval)\n",
    "    w2 = (data[:][calname] == calval[0])  &  (data[:][signame] == sigval[1] & (data[:][nodname] == nodval)\n",
    "    w3 = (data[:][calname] == calval[1])  &  (data[:][signame] == sigval[1] & (data[:][nodname] == nodval)\n",
    "    if index:\n",
    "        ix0 = np.where(w0)[0]  # sig_calon\n",
    "        ix1 = np.where(w1)[0]  # sig_caloff\n",
    "        ix2 = np.where(w2)[0]  # ref_calon\n",
    "        ix3 = np.where(w3)[0]  # ref_caloff\n",
    "        return (ix0,ix1,ix2,ix3)\n",
    "    else:\n",
    "        return (w0,w1,w2,w3)"
   ]
  },
  {
   "cell_type": "code",
   "execution_count": null,
   "metadata": {},
   "outputs": [],
   "source": [
    "%%time\n",
    "ix0,ix1,ix2,ix3 = whsigcal(data2,'CAL',['T','F'],  'PROCSEQN', [1,2])\n",
    "\n",
    "# for FS we would\n",
    "# ix0,ix1,ix2,ix3 = whsigcal(data2,'CAL',['T','F'],  'SIG', ['T','F'])"
   ]
  },
  {
   "cell_type": "code",
   "execution_count": null,
   "metadata": {},
   "outputs": [],
   "source": [
    "%%time \n",
    "tcal = data2[:]['DATA']\n",
    "meanspec = np.zeros(nchan)\n",
    "for (i0,i1,i2,i3) in zip(ix0,ix1,ix2,ix3):\n",
    "    sig_calon  = data2[i0]['DATA']\n",
    "    sig_caloff = data2[i1]['DATA']\n",
    "    ref_calon  = data2[i2]['DATA']\n",
    "    ref_caloff = data2[i3]['DATA']\n",
    "    tsys = dcmeantsys(ref_calon,ref_caloff,tcal[i2])\n",
    "    sig = sig_calon + sig_caloff\n",
    "    ref = ref_calon + ref_caloff\n",
    "    spec = tsys * (sig/ref-1)\n",
    "    meanspec = meanspec + spec\n",
    "meanspec = meanspec/len(ix0)   \n",
    "    "
   ]
  },
  {
   "cell_type": "code",
   "execution_count": null,
   "metadata": {},
   "outputs": [],
   "source": [
    "plt.plot(chans,meanspec,label='generic')\n",
    "plt.plot(chans,ave,     label='tuned')\n",
    "plt.xlim(14500,18500)\n",
    "plt.ylim(0.20,0.55)\n",
    "plt.legend();         "
   ]
  },
  {
   "cell_type": "markdown",
   "metadata": {},
   "source": [
    "### How about Pandas DataFrame's ?\n",
    "\n",
    "A pandas dataframe could contain the whole BINTABLE, and with an attached 'engine' reduce the rows in the waterfall plot to lower dimension (eventually 1 if it's a single pointing), which is the desired result. \n",
    "Compare this with operators such as **np.sum(axis=1)/nrow** if you just want to get an average spectrum."
   ]
  },
  {
   "cell_type": "code",
   "execution_count": null,
   "metadata": {},
   "outputs": [],
   "source": [
    "from astropy.table import Table\n",
    "import pandas\n",
    "\n",
    "t= Table.read(fname,format='fits') \n",
    "t.meta\n",
    "df = t.to_pandas()"
   ]
  },
  {
   "cell_type": "markdown",
   "metadata": {},
   "source": [
    "Thus, currently the astro Table cannot export to pandas.  If we do want it, we will do it manually, and with the modin replacement for pandas there could be a huge gain in operational speed if that becomes a bottleneck."
   ]
  },
  {
   "cell_type": "code",
   "execution_count": null,
   "metadata": {},
   "outputs": [],
   "source": [
    "import pandas as pd\n",
    "#import modin.pandas as pd\n",
    "# import xray\n",
    "\n",
    "x = np.arange(0,10)\n",
    "x2 = x.reshape(5,2)\n",
    "y = np.sqrt(x)\n",
    "point = {'x': x2,    'y' : y}\n",
    "points = 10 * [point]\n",
    "\n",
    "#\n",
    "df = pd.DataFrame().append(points)\n",
    "df.x[4]\n",
    "\n",
    "# so in other words, bintable to panda's manually is ok, but not via the Table interface"
   ]
  },
  {
   "cell_type": "markdown",
   "metadata": {},
   "source": [
    "### Adding astropy units to the X and Y axis\n",
    "\n",
    "Specutils likes to work with things that have units. astropy to the rescue"
   ]
  },
  {
   "cell_type": "code",
   "execution_count": null,
   "metadata": {},
   "outputs": [],
   "source": [
    "crval1 = data2[row]['CRVAL1']\n",
    "cdelt1 = data2[row]['CDELT1']\n",
    "crpix1 = data2[row]['CRPIX1']\n",
    "freq0  = data2[row]['RESTFREQ']\n",
    "freq = (crval1 + (np.arange(1,nchan+1) - crpix1) * cdelt1)/1e9\n",
    "#\n",
    "flux = flux * u.Unit(\"K\")      # we're assuming, this was actually not in the header\n",
    "freq = freq * u.Unit(\"GHz\")    # or check CUNIT1 - usually not present in SDFITS files though"
   ]
  },
  {
   "cell_type": "code",
   "execution_count": null,
   "metadata": {},
   "outputs": [],
   "source": [
    "# even though we've attached astropy units, they still work in matplotlib plotting\n",
    "plt.plot(freq,flux)\n",
    "plt.xlabel(\"Freq [%s]\" % freq.unit)\n",
    "plt.ylabel(\"Flux [%s]\" % flux.unit);"
   ]
  },
  {
   "cell_type": "markdown",
   "metadata": {},
   "source": [
    "### Creating a simple Spectrum1D object from specutils"
   ]
  },
  {
   "cell_type": "code",
   "execution_count": null,
   "metadata": {},
   "outputs": [],
   "source": [
    "spec = Spectrum1D(spectral_axis=freq, flux=flux)"
   ]
  },
  {
   "cell_type": "code",
   "execution_count": null,
   "metadata": {},
   "outputs": [],
   "source": [
    "f, ax = plt.subplots()  \n",
    "ax.step(spec.spectral_axis, spec.flux);\n",
    "# darn, the spectral axis still has 1e9 units, and it doesn't identify the units"
   ]
  },
  {
   "cell_type": "markdown",
   "metadata": {},
   "source": [
    "## Designing our own reader in specutils\n",
    "\n",
    "The specutils manual explains how to make your own reader. At the moment of writing there is no \"sdfits\" reader, so we're making a simple example with just a few meta-data. But this will simplify working with specutils.\n",
    "\n",
    "There will be some issue w.r.t. SDFITS dialects. So we may have to write a GBT specific loader."
   ]
  },
  {
   "cell_type": "code",
   "execution_count": null,
   "metadata": {},
   "outputs": [],
   "source": [
    "loaders = get_loaders_by_extension('fits')\n",
    "print(loaders)"
   ]
  },
  {
   "cell_type": "markdown",
   "metadata": {},
   "source": [
    "We need a list of FITS keywords and FIELD names from the BINTABLE that are going to be the meta-data\n",
    "associated with each spectrum. For now, just a few very important ones, but the list is large for full processing. \n"
   ]
  },
  {
   "cell_type": "code",
   "execution_count": null,
   "metadata": {},
   "outputs": [],
   "source": [
    "# just a few important ones for now, there are about 70 in the full SDFITS\n",
    "\n",
    "sdfits_headers = ['SCAN', 'PROCSEQN', 'CAL', 'OBJECT','SAMPLER', 'TCAL']"
   ]
  },
  {
   "cell_type": "markdown",
   "metadata": {},
   "source": [
    "We are registering a special fits reader for the spectra, and use a SpectrumList.\n"
   ]
  },
  {
   "cell_type": "code",
   "execution_count": null,
   "metadata": {},
   "outputs": [],
   "source": [
    "def identify_sdfits(origin, *args, **kwargs):\n",
    "    print(\"IDENTIFY_SDFITS\")\n",
    "    try:\n",
    "        with fits.open(args[0]) as hdulist:\n",
    "            extname = hdulist[1].header['EXTNAME']\n",
    "            if extname == 'SINGLE DISH':\n",
    "                print(\"Hurray, we have SDFITS\")\n",
    "                return True\n",
    "            else:\n",
    "                print(\"Warning, skipping extname %s\" % extname)\n",
    "                return False\n",
    "    except Exception:\n",
    "        return Falseflux + sl2[i].flux\n",
    "\n",
    "    "
   ]
  },
  {
   "cell_type": "code",
   "execution_count": null,
   "metadata": {},
   "outputs": [],
   "source": [
    "@data_loader(\"sdfits\", identifier=identify_sdfits, dtype=SpectrumList, extensions=['fits'])\n",
    "def sdfits_loader(file_name, spectral_axis_unit=None, **kwargs):\n",
    "\n",
    "    spectra = []\n",
    "    with fits.open(file_name, **kwargs) as hdulist:\n",
    "        header1= hdulist[0].header        \n",
    "        header2= hdulist[1].header\n",
    "        data   = hdulist[1].data\n",
    "        nrow   = len(data)\n",
    "        nchan  = 0\n",
    "        for i in range(nrow):\n",
    "            sp = data[i]['DATA']\n",
    "            if nchan==0:\n",
    "                nchan = len(sp)     # every spectrum in SDFITS has the same length\n",
    "            crval1  = data[i]['CRVAL1']\n",
    "            cdelt1  = data[i]['CDELT1']\n",
    "            crpix1  = data[i]['CRPIX1']\n",
    "            ctype1  = data[i]['CTYPE1']     # 'FREQ-OBS' to 'FREQ'; assuming SPECSYS='TOPOCENT'\n",
    "            restfrq = data[i]['RESTFREQ']\n",
    "            cunit1  = 'Hz'\n",
    "            crval2  = data[i]['CRVAL2']\n",
    "            crval3  = data[i]['CRVAL3']\n",
    "            ctype2  = data[i]['CTYPE2']\n",
    "            ctype3  = data[i]['CTYPE3']\n",
    "            if ctype1 == 'FREQ-OBS': ctype1  = 'FREQ'\n",
    "            # only axis1 needs a full description, axis2,3,4 are all single points\n",
    "            wcs = WCS(header={'CDELT1': cdelt1, 'CRVAL1': crval1, 'CUNIT1': cunit1,\n",
    "                              'CTYPE1': ctype1, 'CRPIX1': crpix1, 'RESTFRQ': restfrq,\n",
    "                              'CTYPE2': ctype2, 'CRVAL2': crval2,\n",
    "                              'CTYPE3': ctype3, 'CRVAL3': crval3})\n",
    "                              \n",
    "\n",
    "            meta = {}\n",
    "            if False:\n",
    "                # adding the actual FITS headers is for debugging, but not in production mode\n",
    "                meta['header1'] = header1\n",
    "                meta['header2'] = header2\n",
    "            if True:\n",
    "                for key in sdfits_headers:\n",
    "                    if key in header1:\n",
    "                        meta[key] = header1[key]\n",
    "                    elif key in header2:\n",
    "                        meta[key] = header2[key]\n",
    "                    else:\n",
    "                        meta[key] = data[i][key]    # why doesn't       key in data[i]    work?\n",
    "                # add our row counter\n",
    "                meta['_row'] = i\n",
    "                        \n",
    "        \n",
    "            sp = sp * Unit('K')\n",
    "            spec = Spectrum1D(flux=sp, wcs=wcs, meta=meta, velocity_convention=\"radio\")\n",
    "            spectra.append(spec)\n",
    "            \n",
    "    return  SpectrumList(spectra)"
   ]
  },
  {
   "cell_type": "markdown",
   "metadata": {},
   "source": [
    "Now we are ready for some action! But lets define a small spectrum plotter with some nicer units\n",
    "\n"
   ]
  },
  {
   "cell_type": "code",
   "execution_count": null,
   "metadata": {},
   "outputs": [],
   "source": [
    "%%time\n",
    "# 3004 spectra in 7.5sec  \n",
    "# 352 spectra in 931ms for ex1)\n",
    "sl1 = SpectrumList.read(fname, format=\"sdfits\")\n",
    "nsp = len(sl1)\n",
    "print(\"Found %d spectra\" % nsp)"
   ]
  },
  {
   "cell_type": "code",
   "execution_count": null,
   "metadata": {},
   "outputs": [],
   "source": [
    "sp=sl1[0]\n",
    "#sp.velocity(\"km/s\",type=\"doppler_radio\")\n",
    "#sp.velocity_convention\n",
    "sp.velocity\n",
    "sp.spectral_axis\n",
    "my_plot(sp,True)\n",
    "sp.velocity\n",
    "#plt.plot(sp.velocity,sp.flux)\n",
    "sp"
   ]
  },
  {
   "cell_type": "code",
   "execution_count": null,
   "metadata": {},
   "outputs": [],
   "source": [
    "%%time\n",
    "gbt1 = my_loader1(fname)\n",
    "print(\"Found %d spectra\" % len(gbt1['spectra']))\n",
    "#   this is a raw SDFITS loader,for comparison"
   ]
  },
  {
   "cell_type": "code",
   "execution_count": null,
   "metadata": {},
   "outputs": [],
   "source": [
    "print(\"Here are the first two spectra, the CalOn and CalOff\")\n",
    "for i in range(2):\n",
    "    my_stats(\"spec    \",sl1[i].flux.value)\n",
    "    my_stats(\"bintable\",spectra[i])"
   ]
  },
  {
   "cell_type": "code",
   "execution_count": null,
   "metadata": {},
   "outputs": [],
   "source": [
    "sp  = sl1[0]\n",
    "x=sp.spectral_axis/(1 * Unit(\"Hz\"))/1e6\n",
    "y=sp.flux\n",
    "type(y)\n",
    "print(y.unit)\n"
   ]
  },
  {
   "cell_type": "code",
   "execution_count": null,
   "metadata": {},
   "outputs": [],
   "source": [
    "# here is an issue:    cannot combine the ON and OFF for example if taken on different times\n",
    "\n",
    "a=sl1[0]-sl1[1]\n",
    "b=sl1[2]-sl1[3]\n",
    "print(a)\n",
    "print(b)\n",
    "try:\n",
    "    c = a + b\n",
    "except:\n",
    "    print(\"*** Cannot combine ***\")\n",
    "a1 = a / sl1[0]\n",
    "print(a1)\n",
    "# cannot do a+b, spectral axis is TOPO\n",
    "# does this imply that if our ephemeris isn't good enough, they will not align in doppler space\n",
    "# and thus refuse to be combined?"
   ]
  },
  {
   "cell_type": "code",
   "execution_count": null,
   "metadata": {},
   "outputs": [],
   "source": [
    "# lets look at the meta data where we know there are changes\n",
    "# there are 8 scans of 11 integrations each, two polarizations and the on/off cal cycle\n",
    "for i in [0,1,22,44,88]:\n",
    "    print(i,sl1[i].meta)\n"
   ]
  },
  {
   "cell_type": "code",
   "execution_count": null,
   "metadata": {},
   "outputs": [],
   "source": [
    "%%time \n",
    "# 7.5s  (1.0s for ex1)\n",
    "# this is like my_worker1() presented earlier\n",
    "Spectra = []\n",
    "for i in range(0,nsp,2):\n",
    "    sp1 = sl1[i]      # this is the ON in PROCSEQN=1     \n",
    "    sp2 = sl1[i+1]\n",
    "    tsys = sl1[i].meta['TCAL']\n",
    "    sp = (sp1-sp2)/sp2.flux.value * tsys     # don't use the units.....       \n",
    "    sp.meta = sp1.meta\n",
    "    #sp.flux *= tsys           # this is silly, can't modify the flux.....\n",
    "    Spectra.append(sp)\n",
    "    \n",
    "sl2 =  SpectrumList(Spectra)   "
   ]
  },
  {
   "cell_type": "markdown",
   "metadata": {},
   "source": [
    "Take the first calibrated spectrum, and see how it compares ith GBTIDL"
   ]
  },
  {
   "cell_type": "code",
   "execution_count": null,
   "metadata": {},
   "outputs": [],
   "source": [
    "# GBTIDL:  getps,51,intnum=0  &  stats,/full\n",
    "# 0.27865 0.16342 -1.5897 1.8587\n",
    "my_stats(\"first R:\",sl2[0].flux)\n",
    "#my_plot(sl2[0])\n",
    "plt.plot(chans,sl2[0].flux)\n",
    "print(len(sl2))"
   ]
  },
  {
   "cell_type": "code",
   "execution_count": null,
   "metadata": {},
   "outputs": [],
   "source": [
    "print(sp)\n",
    "a = sp * 2\n",
    "print(a)\n",
    "a=sp.multiply(2*u.Unit('mJy'))   \n",
    "print(sp)\n",
    "print(a)\n",
    "a = a * (2*u.Unit('mJy'))\n",
    "print(a)\n"
   ]
  },
  {
   "cell_type": "code",
   "execution_count": null,
   "metadata": {},
   "outputs": [],
   "source": [
    "for i in [0,1,11,22]:\n",
    "    print(i,sl2[i].meta)"
   ]
  },
  {
   "cell_type": "code",
   "execution_count": null,
   "metadata": {},
   "outputs": [],
   "source": [
    "from specutils.manipulation import (box_smooth, gaussian_smooth, trapezoid_smooth)\n",
    "print(sp\n",
    "    )\n",
    "spec1 = Spectrum1D(flux=ave*u.Unit(\"K\"), wcs=sp.wcs, meta=sp.meta)\n",
    "spec1_bsmooth = box_smooth(spec1, width=3)\n",
    "spec1_gsmooth = gaussian_smooth(spec1, stddev=3)\n",
    "spec1_tsmooth = trapezoid_smooth(spec1, width=3)"
   ]
  },
  {
   "cell_type": "code",
   "execution_count": null,
   "metadata": {},
   "outputs": [],
   "source": [
    "plt.plot(chans, spec1.flux) \n",
    "plt.xlim(14500,18000)\n",
    "plt.ylim(0.2,0.6)"
   ]
  },
  {
   "cell_type": "code",
   "execution_count": null,
   "metadata": {},
   "outputs": [],
   "source": []
  },
  {
   "cell_type": "code",
   "execution_count": null,
   "metadata": {},
   "outputs": [],
   "source": [
    "plt.plot(chans, spec1_bsmooth.flux) \n",
    "plt.title(\"Boxcar Smooth\")\n",
    "plt.xlim(14500,18000)\n",
    "plt.ylim(0.2,0.6)"
   ]
  },
  {
   "cell_type": "code",
   "execution_count": null,
   "metadata": {},
   "outputs": [],
   "source": []
  },
  {
   "cell_type": "code",
   "execution_count": null,
   "metadata": {},
   "outputs": [],
   "source": [
    "plt.plot(chans, spec1_gsmooth.flux)\n",
    "plt.title(\"Gaussian Smooth\")\n",
    "plt.xlim(14500,18000)\n",
    "plt.ylim(0.2,0.6)"
   ]
  },
  {
   "cell_type": "code",
   "execution_count": null,
   "metadata": {},
   "outputs": [],
   "source": []
  },
  {
   "cell_type": "code",
   "execution_count": null,
   "metadata": {},
   "outputs": [],
   "source": [
    "plt.plot(chans, spec1_tsmooth.flux) \n",
    "plt.title(\"Trapezoid Smooth\")\n",
    "plt.xlim(14500,18000)\n",
    "plt.ylim(0.2,0.6)"
   ]
  }
 ],
 "metadata": {
  "kernelspec": {
   "display_name": "Python 3",
   "language": "python",
   "name": "python3"
  },
  "language_info": {
   "codemirror_mode": {
    "name": "ipython",
    "version": 3
   },
   "file_extension": ".py",
   "mimetype": "text/x-python",
   "name": "python",
   "nbconvert_exporter": "python",
   "pygments_lexer": "ipython3",
   "version": "3.7.0"
  }
 },
 "nbformat": 4,
 "nbformat_minor": 2
}
