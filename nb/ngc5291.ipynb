{
 "cells": [
  {
   "cell_type": "markdown",
   "metadata": {},
   "source": [
    "# a specutils example for GBspec"
   ]
  },
  {
   "cell_type": "code",
   "execution_count": null,
   "metadata": {},
   "outputs": [],
   "source": [
    "from astropy.io import fits\n",
    "from astropy import units as u\n",
    "import numpy as np\n",
    "from matplotlib import pyplot as plt\n",
    "from astropy.visualization import quantity_support\n",
    "from specutils import Spectrum1D"
   ]
  },
  {
   "cell_type": "code",
   "execution_count": null,
   "metadata": {},
   "outputs": [],
   "source": [
    "fname = 'ngc5291.fits'\n",
    "row   = 1"
   ]
  },
  {
   "cell_type": "code",
   "execution_count": null,
   "metadata": {},
   "outputs": [],
   "source": [
    "hdu = fits.open(fname)\n",
    "header2 = hdu[1].header\n",
    "data2   = hdu[1].data"
   ]
  },
  {
   "cell_type": "code",
   "execution_count": null,
   "metadata": {},
   "outputs": [],
   "source": [
    "flux = data2[row]['DATA']  \n",
    "nchan = len(flux)\n",
    "chans  = np.arange(nchan)\n",
    "crval1 = data2[row]['CRVAL1']\n",
    "cdelt1 = data2[row]['CDELT1']\n",
    "crpix1 = data2[row]['CRPIX1']\n",
    "freq0 = data2[row]['RESTFREQ']\n",
    "freq = crval1 + (np.arange(1,nchan+1) - crpix1) * cdelt1"
   ]
  },
  {
   "cell_type": "code",
   "execution_count": null,
   "metadata": {},
   "outputs": [],
   "source": [
    "plt.plot(chans,flux)"
   ]
  },
  {
   "cell_type": "code",
   "execution_count": null,
   "metadata": {},
   "outputs": [],
   "source": []
  }
 ],
 "metadata": {
  "kernelspec": {
   "display_name": "Python 3",
   "language": "python",
   "name": "python3"
  },
  "language_info": {
   "codemirror_mode": {
    "name": "ipython",
    "version": 3
   },
   "file_extension": ".py",
   "mimetype": "text/x-python",
   "name": "python",
   "nbconvert_exporter": "python",
   "pygments_lexer": "ipython3",
   "version": "3.7.0"
  }
 },
 "nbformat": 4,
 "nbformat_minor": 2
}
