{
 "cells": [
  {
   "cell_type": "markdown",
   "metadata": {},
   "source": [
    "# GBT  CoDR experiments\n",
    "\n",
    "We implement some of the classes listed in V1.0 of the CoDR.   \n",
    "\n",
    "* very minimal error checking\n",
    "* assumed organization of PS\n",
    "\n",
    "\n",
    "This should eventually reproduce Example 1 (position switching) from the GBTIDL manual. The datafile **ngc5291.fits** you need is [here](http://safe.nrao.edu/wiki/pub/GB/Data/GBTIDLExampleAndSampleData/ngc5291.fits) or locally on **/n/chara/teuben/GBT**.  Some code in here is hardcoded for this fits file, do not try it on other SDFITS files without knowing the tricks."
   ]
  },
  {
   "cell_type": "code",
   "execution_count": 1,
   "metadata": {},
   "outputs": [],
   "source": [
    "%matplotlib inline\n",
    "\n",
    "from astropy.io import fits\n",
    "from astropy import units as u\n",
    "import numpy as np\n",
    "import matplotlib\n",
    "from matplotlib import pyplot as plt\n",
    "from astropy.visualization import quantity_support\n",
    "from specutils import Spectrum1D, SpectrumList\n",
    "\n",
    "from astropy.io import ascii\n",
    "from astropy.nddata import StdDevUncertainty\n",
    "from astropy.table import Table\n",
    "from astropy.units import Unit\n",
    "from astropy.wcs import WCS\n",
    "from astropy.convolution import convolve, Box1DKernel\n",
    "\n",
    "from specutils.io import get_loaders_by_extension\n",
    "from specutils.io.registers import data_loader\n",
    "from specutils import Spectrum1D"
   ]
  },
  {
   "cell_type": "markdown",
   "metadata": {},
   "source": [
    "# Spectrum\n",
    "\n",
    "The class that contains one spectrum"
   ]
  },
  {
   "cell_type": "code",
   "execution_count": 182,
   "metadata": {},
   "outputs": [],
   "source": [
    "class Spectrum(object):\n",
    "    \"\"\"\n",
    "    \"\"\"\n",
    "    def __init__(self, bintable_row):\n",
    "        self.data = bintable_row['DATA']\n",
    "        self.meta = bintable_row\n",
    "        #\n",
    "        nchan = len(self.data)        \n",
    "        crval1 = bintable_row['CRVAL1']\n",
    "        cdelt1 = bintable_row['CDELT1']\n",
    "        crpix1 = bintable_row['CRPIX1']\n",
    "        freq0  = bintable_row['RESTFREQ']\n",
    "        freq = (crval1 + (np.arange(1,nchan+1) - crpix1) * cdelt1)/1e9\n",
    "        self.xvals = freq\n",
    "        "
   ]
  },
  {
   "cell_type": "markdown",
   "metadata": {},
   "source": [
    "# SDFITSLoad\n",
    "\n",
    "This is the class that loads an SDFITS file. Normally not called by users, but by classes such as GBTLoadPS()\n",
    "\n"
   ]
  },
  {
   "cell_type": "code",
   "execution_count": 183,
   "metadata": {},
   "outputs": [
    {
     "name": "stdout",
     "output_type": "stream",
     "text": [
      "==SDFITSLoad ngc5291.fits\n",
      "File:     ngc5291.fits   HDU 1\n",
      "BINTABLE: 352 rows x 131458 cols\n",
      "Sources:  ['NGC5291']\n",
      "Scans:    [51 52 53 54 55 56 57 58]\n"
     ]
    }
   ],
   "source": [
    "class SDFITSLoad(object):\n",
    "    \"\"\"\n",
    "    container for a bintable from a selected HDU\n",
    "    \"\"\"\n",
    "    def __init__(self, filename, hdu=1):\n",
    "        \"\"\"\n",
    "        \"\"\"\n",
    "        print(\"==SDFITSLoad %s\" % filename)\n",
    "        self.filename = filename\n",
    "        self.bintable = None\n",
    "        self.hdu = fits.open(filename)\n",
    "        self.header = self.hdu[0].header\n",
    "        self.load(hdu)\n",
    "    def load(self, hdu=1):\n",
    "        \"\"\"\n",
    "        for given hdu make this bintable available\n",
    "        \"\"\"\n",
    "        self.bintable = self.hdu[hdu]\n",
    "        self.header2  = self.bintable.header\n",
    "        self.data2    = self.bintable.data\n",
    "        src = np.unique(self.data2[:]['OBJECT'])\n",
    "        scan = np.unique(self.data2[:]['SCAN'])\n",
    "        ncols = self.header2['NAXIS1']\n",
    "        nrows = self.header2['NAXIS2']\n",
    "        #\n",
    "        print(\"File:     %s   HDU %d\" % (self.filename, hdu))\n",
    "        print(\"BINTABLE: %d rows x %d cols\" % (nrows,ncols))\n",
    "        print(\"Sources: \",src)\n",
    "        print(\"Scans:   \",scan)\n",
    "        \n",
    "        \n",
    "s = SDFITSLoad('ngc5291.fits')"
   ]
  },
  {
   "cell_type": "markdown",
   "metadata": {},
   "source": [
    "# GBTLoad\n",
    "\n",
    "This is the base class from which we derive all GBTLoad* subclasses that can load and calibrate spectra. It can also be used to load all the spectra, but there is no structure defined, e.g. to check and guide calibration."
   ]
  },
  {
   "cell_type": "code",
   "execution_count": 184,
   "metadata": {},
   "outputs": [
    {
     "name": "stdout",
     "output_type": "stream",
     "text": [
      "==GBTLoad ngc5291.fits\n",
      "==SDFITSLoad ngc5291.fits\n",
      "File:     ngc5291.fits   HDU 1\n",
      "BINTABLE: 352 rows x 131458 cols\n",
      "Sources:  ['NGC5291']\n",
      "Scans:    [51 52 53 54 55 56 57 58]\n"
     ]
    }
   ],
   "source": [
    "class GBTLoad(object):\n",
    "    def __init__(self, filename):\n",
    "        print(\"==GBTLoad %s\" % filename)\n",
    "        self.filename = filename\n",
    "        self.s = SDFITSLoad(filename)\n",
    "        self.nrows = self.s.header2['NAXIS2']\n",
    "        self.sp = np.empty(self.nrows, dtype=Spectrum)\n",
    "        for i in range(self.nrows):\n",
    "            self.sp[i] = Spectrum(self.s.data2[i])\n",
    "    def __len__(self):\n",
    "        return self.nrows\n",
    "    def __getitem__(self, index):\n",
    "        return self.sp[index]\n",
    "    def __repr__(self):\n",
    "        return self.filename\n",
    "        \n",
    "g = GBTLoad('ngc5291.fits')"
   ]
  },
  {
   "cell_type": "code",
   "execution_count": 188,
   "metadata": {},
   "outputs": [
    {
     "name": "stdout",
     "output_type": "stream",
     "text": [
      "352\n",
      "32768\n"
     ]
    }
   ],
   "source": [
    "print(len(g))\n",
    "a=g[1]\n",
    "print(len(a.xvals))"
   ]
  },
  {
   "cell_type": "markdown",
   "metadata": {},
   "source": [
    "# GBTLoadPS\n",
    "\n",
    "This is the class that loads and calibrates Position Switched (PS) data"
   ]
  },
  {
   "cell_type": "code",
   "execution_count": null,
   "metadata": {},
   "outputs": [],
   "source": [
    "def uniq(seq):\n",
    "    \"\"\" from http://stackoverflow.com/questions/480214/how-do-you-remove-duplicates-from-a-list-in-python-whilst-preserving-order \"\"\"\n",
    "    seen = set()\n",
    "    seen_add = seen.add\n",
    "    return [ x for x in seq if x not in seen and not seen_add(x)]\n"
   ]
  },
  {
   "cell_type": "code",
   "execution_count": null,
   "metadata": {},
   "outputs": [],
   "source": [
    "\n"
   ]
  },
  {
   "cell_type": "code",
   "execution_count": 151,
   "metadata": {},
   "outputs": [
    {
     "name": "stdout",
     "output_type": "stream",
     "text": [
      "==SDFITSLoad ngc5291.fits\n",
      "File:     ngc5291.fits   HDU 1\n",
      "BINTABLE: 352 rows x 131458 cols\n",
      "Sources:  ['NGC5291']\n",
      "Scans:    [51 52 53 54 55 56 57 58]\n",
      "uniq OBJECT ['NGC5291']\n",
      "uniq SCAN [51 52 53 54 55 56 57 58]\n",
      "uniq SAMPLER ['A13' 'A9']\n",
      "uniq SIG ['T']\n",
      "uniq CAL ['F' 'T']\n",
      "uniq PROCSEQN [1 2]\n",
      "uniq PROCSIZE [2]\n",
      "uniq OBSMODE ['OnOff:PSWITCHOFF:TPWCAL' 'OnOff:PSWITCHON:TPWCAL']\n"
     ]
    }
   ],
   "source": [
    "class GBTLoadPS(GBTLoad):\n",
    "    \"\"\"\n",
    "    \n",
    "    \"\"\"\n",
    "    def __init__(self, filename):\n",
    "        \"\"\"\n",
    "        Load SDFITS into a PS structure\n",
    "        - should also allow SDFITSLoad() list\n",
    "        - should also allow filename list\n",
    "        - all assumed hdu=1\n",
    "        \"\"\"\n",
    "        def ushow(name):\n",
    "            uname = np.unique(d[:][name])\n",
    "            print('uniq',name,uname)\n",
    "            return uname\n",
    "        def wh(name,val):\n",
    "            print('no')\n",
    "                              \n",
    "        self.filename = filename\n",
    "        self.s = SDFITSLoad(filename)\n",
    "        d = self.s.data2\n",
    "        ushow('OBJECT')\n",
    "        scans = ushow('SCAN')\n",
    "        pols = ushow('SAMPLER')\n",
    "        ushow('SIG')\n",
    "        ushow('CAL')\n",
    "        ushow('PROCSEQN')\n",
    "        ushow('PROCSIZE')\n",
    "        ushow('OBSMODE')\n",
    "        \n",
    "\n",
    "p = GBTLoadPS('ngc5291.fits')"
   ]
  },
  {
   "cell_type": "code",
   "execution_count": 171,
   "metadata": {},
   "outputs": [
    {
     "name": "stdout",
     "output_type": "stream",
     "text": [
      "==SDFITSLoad W3OH.fits\n",
      "File:     W3OH.fits   HDU 1\n",
      "BINTABLE: 480 rows x 65922 cols\n",
      "Sources:  ['W3OH']\n",
      "Scans:    [79 80 81 82 83]\n",
      "uniq OBJECT ['W3OH']\n",
      "uniq SCAN [79 80 81 82 83]\n",
      "uniq SAMPLER ['A10' 'A13' 'A14' 'A9']\n",
      "uniq SIG ['F' 'T']\n",
      "uniq CAL ['F' 'T']\n",
      "uniq PROCSEQN [1]\n",
      "uniq PROCSIZE [1]\n",
      "uniq OBSMODE ['Track:FSWITCH:FSW01']\n"
     ]
    }
   ],
   "source": [
    "#   FS example (should not load)\n",
    "ex2 = GBTLoadPS('W3OH.fits')"
   ]
  },
  {
   "cell_type": "code",
   "execution_count": 172,
   "metadata": {},
   "outputs": [
    {
     "name": "stdout",
     "output_type": "stream",
     "text": [
      "==SDFITSLoad IC1481.fits\n",
      "File:     IC1481.fits   HDU 1\n",
      "BINTABLE: 512 rows x 33154 cols\n",
      "Sources:  ['IC1481']\n",
      "Scans:    [182 183 184 185 186 187 188 189]\n",
      "uniq OBJECT ['IC1481']\n",
      "uniq SCAN [182 183 184 185 186 187 188 189]\n",
      "uniq SAMPLER ['A1' 'A2' 'B3' 'B4' 'C5' 'C6' 'D7' 'D8']\n",
      "uniq SIG ['T']\n",
      "uniq CAL ['F' 'T']\n",
      "uniq PROCSEQN [1 2]\n",
      "uniq PROCSIZE [2]\n",
      "uniq OBSMODE ['Nod:NONE:TPWCAL']\n"
     ]
    }
   ],
   "source": [
    "# NOD example (should not load)\n",
    "ex3 = GBTLoadPS('IC1481.fits')"
   ]
  },
  {
   "cell_type": "code",
   "execution_count": 173,
   "metadata": {},
   "outputs": [],
   "source": [
    "d = p.s.data2\n",
    "\n",
    "wh1 = d['SAMPLER'] == 'A13' \n",
    "wh2 = d['SAMPLER'] == 'A9'\n",
    "wh3 = d['CAL'] == 'T'\n",
    "wh4 = d['CAL'] == 'F'"
   ]
  },
  {
   "cell_type": "code",
   "execution_count": null,
   "metadata": {},
   "outputs": [],
   "source": []
  },
  {
   "cell_type": "code",
   "execution_count": 174,
   "metadata": {},
   "outputs": [
    {
     "data": {
      "text/plain": [
       "352"
      ]
     },
     "execution_count": 174,
     "metadata": {},
     "output_type": "execute_result"
    }
   ],
   "source": [
    "wh_1 = np.bitwise_and(wh1,wh3)\n"
   ]
  },
  {
   "cell_type": "code",
   "execution_count": 162,
   "metadata": {},
   "outputs": [],
   "source": [
    "np.bitwise_and?\n"
   ]
  },
  {
   "cell_type": "code",
   "execution_count": null,
   "metadata": {},
   "outputs": [],
   "source": []
  },
  {
   "cell_type": "code",
   "execution_count": null,
   "metadata": {},
   "outputs": [],
   "source": []
  }
 ],
 "metadata": {
  "kernelspec": {
   "display_name": "Python 3",
   "language": "python",
   "name": "python3"
  },
  "language_info": {
   "codemirror_mode": {
    "name": "ipython",
    "version": 3
   },
   "file_extension": ".py",
   "mimetype": "text/x-python",
   "name": "python",
   "nbconvert_exporter": "python",
   "pygments_lexer": "ipython3",
   "version": "3.7.0"
  }
 },
 "nbformat": 4,
 "nbformat_minor": 2
}
