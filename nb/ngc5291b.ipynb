{
 "cells": [
  {
   "cell_type": "markdown",
   "metadata": {},
   "source": [
    "# GBT  CoDR experiments\n",
    "\n",
    "We implement some of the classes listed in V1.0 of the CoDR.   \n",
    "\n",
    "* these are toy classes\n",
    "* very minimal error checking\n",
    "* an assumed organization of PS\n",
    "\n",
    "\n",
    "This should eventually reproduce Example 1 (position switching) from the GBTIDL manual. The datafile **ngc5291.fits** you need is [here](http://safe.nrao.edu/wiki/pub/GB/Data/GBTIDLExampleAndSampleData/ngc5291.fits) or locally on **/n/chara/teuben/GBT**.  "
   ]
  },
  {
   "cell_type": "markdown",
   "metadata": {},
   "source": [
    "## Example\n",
    "\n",
    "We start off with a session as a GBT user might see this:\n",
    "\n",
    "        ps = GBTLoadPS('a.fits')        # load the SDFITS file\n",
    "        ps.summary()                    # overview times, sources, scans etc.\n",
    "        ps.finalspectrum()              # calibrate and time/pol average\n",
    "        ps.plot()                       # review the final plot\n",
    "        ps.save('a1.fits')              # save the spectrum (also SDFITS format)\n",
    "        \n",
    "This is an example of a well behave spectrum. No masking needed, no baseline fitting, just simple timeaveraging."
   ]
  },
  {
   "cell_type": "code",
   "execution_count": 1,
   "metadata": {},
   "outputs": [],
   "source": [
    "%matplotlib inline\n",
    "\n",
    "from astropy.io import fits\n",
    "from astropy import units as u\n",
    "import numpy as np\n",
    "import matplotlib\n",
    "from matplotlib import pyplot as plt\n",
    "from astropy.visualization import quantity_support\n",
    "from specutils import Spectrum1D, SpectrumList\n",
    "\n",
    "from astropy.io import ascii\n",
    "from astropy.nddata import StdDevUncertainty\n",
    "from astropy.table import Table\n",
    "from astropy.units import Unit\n",
    "from astropy.wcs import WCS\n",
    "from astropy.convolution import convolve, Box1DKernel\n",
    "\n",
    "from specutils.io import get_loaders_by_extension\n",
    "from specutils.io.registers import data_loader\n",
    "from specutils import Spectrum1D"
   ]
  },
  {
   "cell_type": "markdown",
   "metadata": {},
   "source": [
    "# Spectrum\n",
    "\n",
    "The class that contains one spectrum"
   ]
  },
  {
   "cell_type": "code",
   "execution_count": 2,
   "metadata": {},
   "outputs": [],
   "source": [
    "class Spectrum(object):\n",
    "    \"\"\"\n",
    "    contain a basic spectrum (cg. Spectrum1D in specutils)\n",
    "    not used by users\n",
    "    \"\"\"\n",
    "    def __init__(self, bintable_row):\n",
    "        self.data = bintable_row['DATA']\n",
    "        self.meta = bintable_row\n",
    "        self.gbt  = {}\n",
    "        #\n",
    "        nchan = len(self.data)        \n",
    "        crval1 = bintable_row['CRVAL1']\n",
    "        cdelt1 = bintable_row['CDELT1']\n",
    "        crpix1 = bintable_row['CRPIX1']\n",
    "        freq0  = bintable_row['RESTFREQ']\n",
    "        freq = (crval1 + (np.arange(1,nchan+1) - crpix1) * cdelt1)/1e9\n",
    "        self.xvals = freq\n",
    "        \n",
    "    def stats(self, chans=None, label=\"\"):\n",
    "        \"\"\"\n",
    "        show Mean,RMS,Min,Max\n",
    "        \"\"\"\n",
    "        if chans==None:\n",
    "            c0 = 0\n",
    "            c1 = len(self.data)\n",
    "        else:\n",
    "            c0 = chans[0]\n",
    "            c1 = chans[1]\n",
    "        mean = self.data[c0:c1].mean()\n",
    "        rms  = self.data[c0:c1].std()\n",
    "        dmin = self.data[c0:c1].min()\n",
    "        dmax = self.data[c0:c1].max()\n",
    "        ndat = c1-c0\n",
    "        print(\"%s  %s %s %s %s %d\" %  (label,repr(mean),repr(rms),repr(dmin),repr(dmax),ndat))\n",
    "    \n",
    "    def plot(self):\n",
    "        plt.plot(self.xvals, self.data)\n",
    "        \n",
    "        "
   ]
  },
  {
   "cell_type": "markdown",
   "metadata": {},
   "source": [
    "# SDFITSLoad\n",
    "\n",
    "This is the class that loads an SDFITS file. Normally not called by users, but by classes such as GBTLoadPS()\n",
    "\n"
   ]
  },
  {
   "cell_type": "code",
   "execution_count": 3,
   "metadata": {},
   "outputs": [
    {
     "name": "stdout",
     "output_type": "stream",
     "text": [
      "==SDFITSLoad ngc5291.fits\n",
      "File:     ngc5291.fits   HDU 1\n",
      "BINTABLE: 352 rows x 131458 cols\n",
      "Sources:  ['NGC5291']\n",
      "Scans:    [51 52 53 54 55 56 57 58]\n"
     ]
    }
   ],
   "source": [
    "class SDFITSLoad(object):\n",
    "    \"\"\"\n",
    "    container for a bintable from a selected HDU\n",
    "    normally not used by users\n",
    "    \"\"\"\n",
    "    def __init__(self, filename, hdu=1):\n",
    "        \"\"\"\n",
    "        \"\"\"\n",
    "        print(\"==SDFITSLoad %s\" % filename)\n",
    "        self.filename = filename\n",
    "        self.bintable = None\n",
    "        self.hdu = fits.open(filename)\n",
    "        self.header = self.hdu[0].header\n",
    "        self.load(hdu)\n",
    "    def load(self, hdu=1):\n",
    "        \"\"\"\n",
    "        for given hdu make this bintable available\n",
    "        \"\"\"\n",
    "        self.bintable = self.hdu[hdu]\n",
    "        self.header2  = self.bintable.header\n",
    "        self.data2    = self.bintable.data\n",
    "        src = np.unique(self.data2[:]['OBJECT'])\n",
    "        scan = np.unique(self.data2[:]['SCAN'])\n",
    "        ncols = self.header2['NAXIS1']\n",
    "        nrows = self.header2['NAXIS2']\n",
    "        #\n",
    "        print(\"File:     %s   HDU %d\" % (self.filename, hdu))\n",
    "        print(\"BINTABLE: %d rows x %d cols\" % (nrows,ncols))\n",
    "        print(\"Sources: \",src)\n",
    "        print(\"Scans:   \",scan)\n",
    "    def __len__(self):\n",
    "        return self.header2['NAXIS2']\n",
    "        \n",
    "        \n",
    "s = SDFITSLoad('ngc5291.fits')"
   ]
  },
  {
   "cell_type": "markdown",
   "metadata": {},
   "source": [
    "# GBTLoad\n",
    "\n",
    "This is the base class from which we derive all GBTLoad* subclasses that can load and calibrate spectra. It can also be used to load all the spectra, but there is no structure defined, e.g. to check and guide calibration."
   ]
  },
  {
   "cell_type": "code",
   "execution_count": 4,
   "metadata": {},
   "outputs": [
    {
     "name": "stdout",
     "output_type": "stream",
     "text": [
      "==GBTLoad ngc5291.fits\n",
      "==SDFITSLoad ngc5291.fits\n",
      "File:     ngc5291.fits   HDU 1\n",
      "BINTABLE: 352 rows x 131458 cols\n",
      "Sources:  ['NGC5291']\n",
      "Scans:    [51 52 53 54 55 56 57 58]\n",
      "uniq OBJECT ['NGC5291']\n",
      "uniq SCAN [51 52 53 54 55 56 57 58]\n",
      "uniq SAMPLER ['A13' 'A9']\n",
      "uniq SIG ['T']\n",
      "uniq CAL ['F' 'T']\n",
      "uniq PROCSEQN [1 2]\n",
      "uniq PROCSIZE [2]\n",
      "uniq OBSMODE ['OnOff:PSWITCHOFF:TPWCAL' 'OnOff:PSWITCHON:TPWCAL']\n"
     ]
    }
   ],
   "source": [
    "class GBTLoad(object):\n",
    "    def __init__(self, filename):\n",
    "        \"\"\"\n",
    "        Holds a raw \"unstructured\" series of scans, normally not used by users\n",
    "        \"\"\"\n",
    "        def ushow(name):\n",
    "            uname = np.unique(self.s.data2[:][name])\n",
    "            print('uniq',name,uname)\n",
    "            return uname          \n",
    "        print(\"==GBTLoad %s\" % filename)\n",
    "        self.filename = filename\n",
    "        self.s = SDFITSLoad(filename)\n",
    "        ushow('OBJECT')\n",
    "        ushow('SCAN')\n",
    "        ushow('SAMPLER')\n",
    "        ushow('SIG')\n",
    "        ushow('CAL')\n",
    "        ushow('PROCSEQN')\n",
    "        ushow('PROCSIZE')\n",
    "        ushow('OBSMODE')               \n",
    "        \n",
    "        self.nrows = self.s.header2['NAXIS2']\n",
    "        self.sp = np.empty(self.nrows, dtype=Spectrum)\n",
    "        for i in range(self.nrows):\n",
    "            self.sp[i] = Spectrum(self.s.data2[i])\n",
    "            self.sp[i].gbt['row'] = i\n",
    "            \n",
    "    def __len__(self):\n",
    "        return self.nrows\n",
    "    def __getitem__(self, index):\n",
    "        return self.sp[index]\n",
    "    def __repr__(self):\n",
    "        return self.filename\n",
    "    def stats(self, chans=None):\n",
    "        \"\"\"\n",
    "        show Mean,RMS,Min,Max\n",
    "        \"\"\"\n",
    "        for i in range(self.nrows):\n",
    "            self.sp[i].stats(chans,\"%04d\" % i)\n",
    "    def debug(self, vars):\n",
    "        \"\"\"\n",
    "        show some meta data variables\n",
    "        \"\"\"\n",
    "        for i in range(self.nrows):\n",
    "            out = \"\"\n",
    "            for v in vars:\n",
    "                out = out + repr(self.s.data2[i][v]) + \" \"\n",
    "            print(out)\n",
    "\n",
    "# PS example      \n",
    "ex1 = GBTLoad('ngc5291.fits')"
   ]
  },
  {
   "cell_type": "code",
   "execution_count": 5,
   "metadata": {},
   "outputs": [],
   "source": [
    "#   FS example \n",
    "#ex2 = GBTLoad('W3OH.fits')"
   ]
  },
  {
   "cell_type": "code",
   "execution_count": 6,
   "metadata": {},
   "outputs": [],
   "source": [
    "# NOD example \n",
    "#ex3 = GBTLoad('IC1481.fits')"
   ]
  },
  {
   "cell_type": "code",
   "execution_count": 7,
   "metadata": {},
   "outputs": [],
   "source": [
    "# EDGE example \n",
    "#ex4 = GBTLoad('AGBT15B_287_35.raw.vegas.A.fits')"
   ]
  },
  {
   "cell_type": "code",
   "execution_count": 8,
   "metadata": {},
   "outputs": [],
   "source": [
    "# ARGUS example\n",
    "#ex5 = GBTLoad('AGBT17B_151_01.raw.vegas.A.fits')"
   ]
  },
  {
   "cell_type": "code",
   "execution_count": 9,
   "metadata": {},
   "outputs": [],
   "source": [
    "#ex1.stats([3000,4000])\n",
    "#ex1.debug(['DATE-OBS','CAL','SAMPLER','PROCSEQN'])"
   ]
  },
  {
   "cell_type": "code",
   "execution_count": null,
   "metadata": {},
   "outputs": [],
   "source": []
  },
  {
   "cell_type": "markdown",
   "metadata": {},
   "source": [
    "# PSScan\n",
    "\n",
    "This class holds one PS scan, which consists of an \"On\" and \"Off\" scan."
   ]
  },
  {
   "cell_type": "code",
   "execution_count": 10,
   "metadata": {},
   "outputs": [],
   "source": [
    "class PSScan(object):\n",
    "    \"\"\"\n",
    "    Holds a PS scan - never used by users\n",
    "    GBTLoadPS will hold one or more of such scans\n",
    "    \"\"\"\n",
    "    #\n",
    "    def __init__(self, sdfits, scan_on, scan_off):\n",
    "        \"\"\"\n",
    "        \"\"\"\n",
    "        self.sdfits = sdfits\n",
    "        self.status = 0\n",
    "        #                           # ex1:\n",
    "        self.nint = 0               # 11\n",
    "        self.npol = 0               #  2\n",
    "        self.on = None              # 44\n",
    "        self.off = None             # 44\n",
    "        self.calibrated = None      # 22\n",
    "        self.timeaveraged = None    #  2\n",
    "        self.polaveraged = None     #  1\n",
    "        #\n",
    "        self.nrows = len(scan_on)\n",
    "        self.on = np.empty(self.nrows, dtype=Spectrum)\n",
    "        self.off = np.empty(self.nrows, dtype=Spectrum)\n",
    "        for (i,j,k) in zip(range(len(scan_on)),scan_on, scan_off):\n",
    "            self.on[i] = Spectrum(sdfits.data2[j])\n",
    "            self.off[i] = Spectrum(sdfits.data2[k])\n",
    "            # remember the original row\n",
    "            self.on[i].gbt['row'] = j\n",
    "            self.off[i].gbt['row'] = k\n",
    "        self.npol = 2\n",
    "        self.nint = self.nrows // 4\n",
    "    def debug(self):\n",
    "        \"\"\"\n",
    "        no debug\n",
    "        \"\"\"\n",
    "        print(\"WIP\")\n",
    "    def calibrate(self):\n",
    "        \"\"\"\n",
    "        special PS calibration\n",
    "        \"\"\"\n",
    "        self.status = 1\n",
    "        npolint = self.npol * self.nint\n",
    "        self.calibrated = np.empty(npolint, dtype=Spectrum)\n",
    "        for i in range(npolint):\n",
    "            tsys = 2.4   # figure this out from dcmeantsys\n",
    "            tcal = 2.4\n",
    "            calon = self.on[2*i].data\n",
    "            caloff = self.off[2*i].data\n",
    "            kr = self.on[2*i].gbt['row']      #  BAD 'row'\n",
    "            self.calibrated[i] = Spectrum(self.sdfits.data2[kr])\n",
    "            self.calibrated[i].data = tcal * caloff / (calon-caloff) + tcal/2.0\n",
    "            self.calibrated[i].gbt['row'] = kr\n",
    "            # fix the meta data ; most of it is ok\n",
    "    def timeaverage(self):\n",
    "        \"\"\"\n",
    "        time averaging\n",
    "        \"\"\"\n",
    "        self.status = 2\n",
    "        self.timeaveraged = np.empty(self.npol, dtype=Spectrum)\n",
    "        for i in range(self.npol):\n",
    "            for j in range(self.nint):\n",
    "                k = i*self.nint + j\n",
    "                if j == 0:\n",
    "                    data = self.calibrated[k].data\n",
    "                else:\n",
    "                    data = data + self.calibrated[k].data\n",
    "            kr = self.calibrated[k].gbt['row']   \n",
    "            self.timeaveraged[i] = Spectrum(self.sdfits.data2[kr])\n",
    "            self.timeaveraged[i].data = data / self.nint\n",
    "            self.timeaveraged[i].gbt['row'] = kr\n",
    "            # fix the meta data; most of it is ok\n",
    "    def polaverage(self):\n",
    "        \"\"\"\n",
    "        polarization averaged ; needs to be stokes smart \n",
    "        \"\"\"\n",
    "        self.status = 3\n",
    "        self.polaveraged = np.empty(1, dtype=Spectrum)\n",
    "        for i in range(self.npol):\n",
    "            if i==0:\n",
    "                data = self.timeaveraged[i].data\n",
    "            else:\n",
    "                data = data + self.timeaveraged[i].data\n",
    "        kr = self.timeaveraged[0].gbt['row']\n",
    "        self.polaveraged[0] = Spectrum(self.sdfits.data2[kr])\n",
    "        self.polaveraged[0].data = data / self.npol\n",
    "        self.polaveraged[0].gbt['row'] = kr\n",
    "        # fix the meta data\n",
    "        \n",
    "        "
   ]
  },
  {
   "cell_type": "markdown",
   "metadata": {},
   "source": [
    "# GBTLoadPS\n",
    "\n",
    "This is the class that loads and calibrates Position Switched (PS) data"
   ]
  },
  {
   "cell_type": "code",
   "execution_count": 11,
   "metadata": {},
   "outputs": [],
   "source": [
    "def uniq(seq):\n",
    "    \"\"\" from http://stackoverflow.com/questions/480214/how-do-you-remove-duplicates-from-a-list-in-python-whilst-preserving-order \"\"\"\n",
    "    seen = set()\n",
    "    seen_add = seen.add\n",
    "    return [ x for x in seq if x not in seen and not seen_add(x)]\n"
   ]
  },
  {
   "cell_type": "code",
   "execution_count": null,
   "metadata": {},
   "outputs": [],
   "source": [
    "\n"
   ]
  },
  {
   "cell_type": "code",
   "execution_count": null,
   "metadata": {},
   "outputs": [],
   "source": []
  },
  {
   "cell_type": "code",
   "execution_count": 12,
   "metadata": {},
   "outputs": [
    {
     "name": "stdout",
     "output_type": "stream",
     "text": [
      "==SDFITSLoad ngc5291.fits\n",
      "File:     ngc5291.fits   HDU 1\n",
      "BINTABLE: 352 rows x 131458 cols\n",
      "Sources:  ['NGC5291']\n",
      "Scans:    [51 52 53 54 55 56 57 58]\n",
      "uniq OBSMODE ['OnOff:PSWITCHOFF:TPWCAL' 'OnOff:PSWITCHON:TPWCAL']\n",
      "51 on 0 ... 43\n",
      "52 off 44 ... 87\n",
      "53 on 88 ... 131\n",
      "54 off 132 ... 175\n",
      "55 on 176 ... 219\n",
      "56 off 220 ... 263\n",
      "57 on 264 ... 307\n",
      "58 off 308 ... 351\n"
     ]
    }
   ],
   "source": [
    "class GBTLoadPS(GBTLoad):\n",
    "    \"\"\"\n",
    "    \n",
    "    \"\"\"\n",
    "    def __init__(self, filename):\n",
    "        \"\"\"\n",
    "        Load SDFITS into a PS structure\n",
    "        - should also allow SDFITSLoad() list\n",
    "        - should also allow filename list\n",
    "        - all assumed hdu=1\n",
    "        \"\"\"\n",
    "        def ushow(name, show=False):\n",
    "            uname = np.unique(self.sdfits.data2[:][name])\n",
    "            if show: print('uniq',name,uname)\n",
    "            return uname\n",
    "        def wh(name,val):\n",
    "            print('no')\n",
    "                              \n",
    "        self.filename = filename\n",
    "        self.sdfits = SDFITSLoad(filename)\n",
    "        self.scan = {}\n",
    "        self.scanaveraged = None\n",
    "        #\n",
    "        self.status = 0    # 0 = uncalibrated\n",
    "        #\n",
    "        d = self.sdfits.data2\n",
    "        self.object = ushow('OBJECT')\n",
    "        self.scans = ushow('SCAN')\n",
    "        pols = ushow('SAMPLER')\n",
    "        sigs = ushow('SIG')\n",
    "        cals = ushow('CAL')\n",
    "        proc = ushow('PROCSEQN')\n",
    "        ushow('PROCSIZE')\n",
    "        ushow('OBSMODE',True)\n",
    "        dates = ushow('DATE-OBS')\n",
    "        self.date0 = dates[0]\n",
    "        self.date1 = dates[-1]\n",
    "        # hardcoded\n",
    "        s1 = [51, 53, 55, 57]\n",
    "        s2 = [52, 54, 56, 58]\n",
    "        idx = np.arange(len(self.sdfits))\n",
    "        for (i1,i2) in zip(s1,s2):\n",
    "            scan_on = idx[d['SCAN'] == i1]\n",
    "            scan_off = idx[d['SCAN'] == i2]\n",
    "            print(i1,'on',scan_on[0],'...',scan_on[-1])\n",
    "            print(i2,'off',scan_off[0],'...',scan_off[-1])\n",
    "            self.scan[i1] = PSScan(self.sdfits, scan_on, scan_off)\n",
    "        \n",
    "    def summary(self):\n",
    "        print(\"GBTLoadPS %s\" % self.filename)\n",
    "        print(\"Sources:\",self.object)\n",
    "        print(\"Scans:\",self.scans)\n",
    "        print(\"Dates:\",self.date0,self.date1)\n",
    "    def stats(self, range=None):\n",
    "        print('WIP')\n",
    "    def calibrate(self):\n",
    "        \"\"\"\n",
    "        calibrate\n",
    "        \"\"\"\n",
    "        self.status = 1 \n",
    "        for scan in self.scan.keys():\n",
    "            print(\"Calibrating\",scan)\n",
    "            self.scan[scan].calibrate()\n",
    "            \n",
    "    def timeaverage(self):\n",
    "        \"\"\"\n",
    "        average in time for all scans\n",
    "        \"\"\"\n",
    "        self.status = 2\n",
    "        for scan in self.scan.keys():\n",
    "            print(\"Timeaver\",scan)\n",
    "            self.scan[scan].timeaverage()\n",
    "            \n",
    "    def polaverage(self):\n",
    "        \"\"\"\n",
    "        average in time for all scans\n",
    "        \"\"\"\n",
    "        self.status = 3\n",
    "        for scan in self.scan.keys():\n",
    "            print(\"Polaver\",scan)\n",
    "            self.scan[scan].polaverage()\n",
    "            \n",
    "    def scanaverage(self):\n",
    "        \"\"\"\n",
    "        averaging over scans\n",
    "        \"\"\"\n",
    "        self.status = 4\n",
    "        nscan = len(self.scan.keys())\n",
    "        print(\"Scanaverage over %d scans\" % nscan)\n",
    "        self.scanaveraged = np.empty(1, dtype=Spectrum)\n",
    "        for (i,scan) in zip(range(nscan),self.scan.keys()):\n",
    "            kr = self.scan[scan].polaveraged[0].gbt['row']\n",
    "            print('Scan %d Row %d' % (scan,kr))\n",
    "            if i==0:\n",
    "                data = self.scan[scan].polaveraged[0].data\n",
    "            else:\n",
    "                data = data + self.scan[scan].polaveraged[0].data\n",
    "        data = data / nscan\n",
    "        self.scanaveraged[0] = Spectrum(self.sdfits.data2[kr])\n",
    "        self.scanaveraged[0].data = data / nscan\n",
    "        self.scanaveraged[0].gbt['row'] = kr          \n",
    "\n",
    "p = GBTLoadPS('ngc5291.fits')"
   ]
  },
  {
   "cell_type": "code",
   "execution_count": 13,
   "metadata": {},
   "outputs": [
    {
     "name": "stdout",
     "output_type": "stream",
     "text": [
      "Calibrating 51\n",
      "Calibrating 53\n",
      "Calibrating 55\n",
      "Calibrating 57\n"
     ]
    },
    {
     "name": "stderr",
     "output_type": "stream",
     "text": [
      "/home/teuben/GBT/gbtoy/anaconda3/lib/python3.7/site-packages/ipykernel_launcher.py:51: RuntimeWarning: divide by zero encountered in true_divide\n"
     ]
    }
   ],
   "source": [
    "p.calibrate()"
   ]
  },
  {
   "cell_type": "code",
   "execution_count": 14,
   "metadata": {},
   "outputs": [
    {
     "name": "stdout",
     "output_type": "stream",
     "text": [
      "Timeaver 51\n",
      "Timeaver 53\n",
      "Timeaver 55\n",
      "Timeaver 57\n"
     ]
    }
   ],
   "source": [
    "p.timeaverage()"
   ]
  },
  {
   "cell_type": "code",
   "execution_count": 15,
   "metadata": {},
   "outputs": [
    {
     "name": "stdout",
     "output_type": "stream",
     "text": [
      "Polaver 51\n",
      "Polaver 53\n",
      "Polaver 55\n",
      "Polaver 57\n"
     ]
    }
   ],
   "source": [
    "p.polaverage()"
   ]
  },
  {
   "cell_type": "code",
   "execution_count": 16,
   "metadata": {},
   "outputs": [
    {
     "name": "stdout",
     "output_type": "stream",
     "text": [
      "Scanaverage over 4 scans\n",
      "Scan 51 Row 20\n",
      "Scan 53 Row 108\n",
      "Scan 55 Row 196\n",
      "Scan 57 Row 284\n"
     ]
    }
   ],
   "source": [
    "p.scanaverage()"
   ]
  },
  {
   "cell_type": "code",
   "execution_count": 17,
   "metadata": {},
   "outputs": [
    {
     "data": {
      "image/png": "[encoded data removed]",
      "text/plain": [
       "<Figure size 432x288 with 1 Axes>"
      ]
     },
     "metadata": {
      "needs_background": "light"
     },
     "output_type": "display_data"
    }
   ],
   "source": [
    "p.scanaveraged[0].plot()"
   ]
  }
 ],
 "metadata": {
  "kernelspec": {
   "display_name": "Python 3",
   "language": "python",
   "name": "python3"
  },
  "language_info": {
   "codemirror_mode": {
    "name": "ipython",
    "version": 3
   },
   "file_extension": ".py",
   "mimetype": "text/x-python",
   "name": "python",
   "nbconvert_exporter": "python",
   "pygments_lexer": "ipython3",
   "version": "3.7.0"
  }
 },
 "nbformat": 4,
 "nbformat_minor": 2
}
